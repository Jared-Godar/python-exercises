{
 "cells": [
  {
   "cell_type": "code",
   "execution_count": 1,
   "id": "0f3d5874",
   "metadata": {},
   "outputs": [],
   "source": [
    "movies = [('Little Mermaid',2), ('Brother Bear', 5), ('Hercules', 1)]"
   ]
  },
  {
   "cell_type": "code",
   "execution_count": 2,
   "id": "40cc2791",
   "metadata": {},
   "outputs": [
    {
     "data": {
      "text/plain": [
       "[('Little Mermaid', 2), ('Brother Bear', 5), ('Hercules', 1)]"
      ]
     },
     "execution_count": 2,
     "metadata": {},
     "output_type": "execute_result"
    }
   ],
   "source": [
    "movies\n"
   ]
  },
  {
   "cell_type": "code",
   "execution_count": 3,
   "id": "4c46f889",
   "metadata": {},
   "outputs": [
    {
     "data": {
      "text/plain": [
       "('Little Mermaid', 2)"
      ]
     },
     "execution_count": 3,
     "metadata": {},
     "output_type": "execute_result"
    }
   ],
   "source": [
    "movies[0]"
   ]
  },
  {
   "cell_type": "code",
   "execution_count": 4,
   "id": "caed10e5",
   "metadata": {},
   "outputs": [
    {
     "data": {
      "text/plain": [
       "2"
      ]
     },
     "execution_count": 4,
     "metadata": {},
     "output_type": "execute_result"
    }
   ],
   "source": [
    "movies[0][1]"
   ]
  },
  {
   "cell_type": "code",
   "execution_count": 6,
   "id": "c077138b",
   "metadata": {},
   "outputs": [
    {
     "data": {
      "text/plain": [
       "5"
      ]
     },
     "execution_count": 6,
     "metadata": {},
     "output_type": "execute_result"
    }
   ],
   "source": [
    "movies[1][1]"
   ]
  },
  {
   "cell_type": "code",
   "execution_count": 8,
   "id": "67ad1f9b",
   "metadata": {},
   "outputs": [
    {
     "data": {
      "text/plain": [
       "1"
      ]
     },
     "execution_count": 8,
     "metadata": {},
     "output_type": "execute_result"
    }
   ],
   "source": [
    "movies[2][1]"
   ]
  },
  {
   "cell_type": "code",
   "execution_count": 12,
   "id": "a1a51fea",
   "metadata": {},
   "outputs": [
    {
     "data": {
      "text/plain": [
       "8"
      ]
     },
     "execution_count": 12,
     "metadata": {},
     "output_type": "execute_result"
    }
   ],
   "source": [
    "movies[0][1] + movies[1][1] + movies[2][1]"
   ]
  },
  {
   "cell_type": "code",
   "execution_count": 13,
   "id": "54b6eac9",
   "metadata": {},
   "outputs": [
    {
     "data": {
      "text/plain": [
       "24"
      ]
     },
     "execution_count": 13,
     "metadata": {},
     "output_type": "execute_result"
    }
   ],
   "source": [
    "(movies[0][1] + movies[1][1] + movies[2][1])*3"
   ]
  },
  {
   "cell_type": "code",
   "execution_count": 15,
   "id": "cfcad851",
   "metadata": {},
   "outputs": [
    {
     "name": "stdout",
     "output_type": "stream",
     "text": [
      "Total movie cost: 24\n"
     ]
    }
   ],
   "source": [
    "print('Total movie cost: ' + str((movies[0][1] + movies[1][1] + movies[2][1])*3))"
   ]
  },
  {
   "cell_type": "code",
   "execution_count": 18,
   "id": "bac4bfe5",
   "metadata": {},
   "outputs": [],
   "source": [
    "work_week = [('Google', 400, 10),('Amazon', 380, 6), ('Facebook', 350,4)]"
   ]
  },
  {
   "cell_type": "code",
   "execution_count": 19,
   "id": "1f947f3e",
   "metadata": {},
   "outputs": [
    {
     "data": {
      "text/plain": [
       "[('Google', 400, 10), ('Amazon', 380, 6), ('Facebook', 350, 4)]"
      ]
     },
     "execution_count": 19,
     "metadata": {},
     "output_type": "execute_result"
    }
   ],
   "source": [
    "work_week"
   ]
  },
  {
   "cell_type": "code",
   "execution_count": 20,
   "id": "08b1963b",
   "metadata": {},
   "outputs": [
    {
     "data": {
      "text/plain": [
       "4000"
      ]
     },
     "execution_count": 20,
     "metadata": {},
     "output_type": "execute_result"
    }
   ],
   "source": [
    "work_week[0][1]*work_week[0][2]"
   ]
  },
  {
   "cell_type": "code",
   "execution_count": 21,
   "id": "987dde61",
   "metadata": {},
   "outputs": [
    {
     "data": {
      "text/plain": [
       "2280"
      ]
     },
     "execution_count": 21,
     "metadata": {},
     "output_type": "execute_result"
    }
   ],
   "source": [
    "work_week[1][1]*work_week[1][2]"
   ]
  },
  {
   "cell_type": "code",
   "execution_count": 22,
   "id": "40c2dbba",
   "metadata": {},
   "outputs": [
    {
     "data": {
      "text/plain": [
       "1400"
      ]
     },
     "execution_count": 22,
     "metadata": {},
     "output_type": "execute_result"
    }
   ],
   "source": [
    "work_week[2][1]*work_week[2][2]"
   ]
  },
  {
   "cell_type": "code",
   "execution_count": 23,
   "id": "1da573c0",
   "metadata": {},
   "outputs": [],
   "source": [
    "pay = (work_week[0][1]*work_week[0][2]) + (work_week[1][1]*work_week[1][2]) + (work_week[2][1]*work_week[2][2])"
   ]
  },
  {
   "cell_type": "code",
   "execution_count": 24,
   "id": "bebf0f0f",
   "metadata": {},
   "outputs": [
    {
     "name": "stdout",
     "output_type": "stream",
     "text": [
      "7680\n"
     ]
    }
   ],
   "source": [
    "print(pay)"
   ]
  },
  {
   "cell_type": "code",
   "execution_count": 26,
   "id": "ecf7eeed",
   "metadata": {},
   "outputs": [
    {
     "data": {
      "text/plain": [
       "7680"
      ]
     },
     "execution_count": 26,
     "metadata": {},
     "output_type": "execute_result"
    }
   ],
   "source": [
    "4000+2280+1400"
   ]
  },
  {
   "cell_type": "code",
   "execution_count": 37,
   "id": "5571f493",
   "metadata": {},
   "outputs": [],
   "source": [
    "class_full = False"
   ]
  },
  {
   "cell_type": "code",
   "execution_count": 28,
   "id": "42c7f5ec",
   "metadata": {},
   "outputs": [],
   "source": [
    "schedule_conflict = False"
   ]
  },
  {
   "cell_type": "code",
   "execution_count": 38,
   "id": "297b3aba",
   "metadata": {},
   "outputs": [],
   "source": [
    "take_class = (not class_full) and (not schedule_conflict)"
   ]
  },
  {
   "cell_type": "code",
   "execution_count": 39,
   "id": "7ed3ab4e",
   "metadata": {},
   "outputs": [
    {
     "data": {
      "text/plain": [
       "True"
      ]
     },
     "execution_count": 39,
     "metadata": {},
     "output_type": "execute_result"
    }
   ],
   "source": [
    "take_class"
   ]
  },
  {
   "cell_type": "code",
   "execution_count": 45,
   "id": "941a60ea",
   "metadata": {},
   "outputs": [],
   "source": [
    "items_bought = 5"
   ]
  },
  {
   "cell_type": "code",
   "execution_count": 41,
   "id": "9656014e",
   "metadata": {},
   "outputs": [],
   "source": [
    "offer_expired = False"
   ]
  },
  {
   "cell_type": "code",
   "execution_count": 46,
   "id": "f25bfe83",
   "metadata": {},
   "outputs": [],
   "source": [
    "product_offer = (items_bought > 2) and not offer_expired"
   ]
  },
  {
   "cell_type": "code",
   "execution_count": 47,
   "id": "525f768c",
   "metadata": {},
   "outputs": [
    {
     "data": {
      "text/plain": [
       "False"
      ]
     },
     "execution_count": 47,
     "metadata": {},
     "output_type": "execute_result"
    }
   ],
   "source": [
    "product_offer"
   ]
  },
  {
   "cell_type": "code",
   "execution_count": null,
   "id": "e0ef5f47",
   "metadata": {},
   "outputs": [],
   "source": []
  }
 ],
 "metadata": {
  "kernelspec": {
   "display_name": "Python 3",
   "language": "python",
   "name": "python3"
  },
  "language_info": {
   "codemirror_mode": {
    "name": "ipython",
    "version": 3
   },
   "file_extension": ".py",
   "mimetype": "text/x-python",
   "name": "python",
   "nbconvert_exporter": "python",
   "pygments_lexer": "ipython3",
   "version": "3.8.8"
  }
 },
 "nbformat": 4,
 "nbformat_minor": 5
}
