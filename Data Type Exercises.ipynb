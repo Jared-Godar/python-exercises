{
 "cells": [
  {
   "cell_type": "code",
   "execution_count": 1,
   "id": "c3cba204",
   "metadata": {},
   "outputs": [],
   "source": [
    "movies = [('Little Mermaid',2), ('Brother Bear', 5), ('Hercules', 1)]"
   ]
  },
  {
   "cell_type": "code",
   "execution_count": 2,
   "id": "da4b4af4",
   "metadata": {},
   "outputs": [
    {
     "data": {
      "text/plain": [
       "[('Little Mermaid', 2), ('Brother Bear', 5), ('Hercules', 1)]"
      ]
     },
     "execution_count": 2,
     "metadata": {},
     "output_type": "execute_result"
    }
   ],
   "source": [
    "movies\n"
   ]
  },
  {
   "cell_type": "code",
   "execution_count": 3,
   "id": "4275e3bf",
   "metadata": {},
   "outputs": [
    {
     "data": {
      "text/plain": [
       "('Little Mermaid', 2)"
      ]
     },
     "execution_count": 3,
     "metadata": {},
     "output_type": "execute_result"
    }
   ],
   "source": [
    "movies[0]"
   ]
  },
  {
   "cell_type": "code",
   "execution_count": 4,
   "id": "2cdacb0a",
   "metadata": {},
   "outputs": [
    {
     "data": {
      "text/plain": [
       "2"
      ]
     },
     "execution_count": 4,
     "metadata": {},
     "output_type": "execute_result"
    }
   ],
   "source": [
    "movies[0][1]"
   ]
  },
  {
   "cell_type": "code",
   "execution_count": 6,
   "id": "4a0f2b78",
   "metadata": {},
   "outputs": [
    {
     "data": {
      "text/plain": [
       "5"
      ]
     },
     "execution_count": 6,
     "metadata": {},
     "output_type": "execute_result"
    }
   ],
   "source": [
    "movies[1][1]"
   ]
  },
  {
   "cell_type": "code",
   "execution_count": 8,
   "id": "e8b0d86d",
   "metadata": {},
   "outputs": [
    {
     "data": {
      "text/plain": [
       "1"
      ]
     },
     "execution_count": 8,
     "metadata": {},
     "output_type": "execute_result"
    }
   ],
   "source": [
    "movies[2][1]"
   ]
  },
  {
   "cell_type": "code",
   "execution_count": 12,
   "id": "2caa5dac",
   "metadata": {},
   "outputs": [
    {
     "data": {
      "text/plain": [
       "8"
      ]
     },
     "execution_count": 12,
     "metadata": {},
     "output_type": "execute_result"
    }
   ],
   "source": [
    "movies[0][1] + movies[1][1] + movies[2][1]"
   ]
  },
  {
   "cell_type": "code",
   "execution_count": 13,
   "id": "c41b0eec",
   "metadata": {},
   "outputs": [
    {
     "data": {
      "text/plain": [
       "24"
      ]
     },
     "execution_count": 13,
     "metadata": {},
     "output_type": "execute_result"
    }
   ],
   "source": [
    "(movies[0][1] + movies[1][1] + movies[2][1])*3"
   ]
  },
  {
   "cell_type": "code",
   "execution_count": 15,
   "id": "01acadc4",
   "metadata": {},
   "outputs": [
    {
     "name": "stdout",
     "output_type": "stream",
     "text": [
      "Total movie cost: 24\n"
     ]
    }
   ],
   "source": [
    "print('Total movie cost: ' + str((movies[0][1] + movies[1][1] + movies[2][1])*3))"
   ]
  },
  {
   "cell_type": "code",
   "execution_count": 18,
   "id": "33e2ba00",
   "metadata": {},
   "outputs": [],
   "source": [
    "work_week = [('Google', 400, 10),('Amazon', 380, 6), ('Facebook', 350,4)]"
   ]
  },
  {
   "cell_type": "code",
   "execution_count": 19,
   "id": "89dc18dd",
   "metadata": {},
   "outputs": [
    {
     "data": {
      "text/plain": [
       "[('Google', 400, 10), ('Amazon', 380, 6), ('Facebook', 350, 4)]"
      ]
     },
     "execution_count": 19,
     "metadata": {},
     "output_type": "execute_result"
    }
   ],
   "source": [
    "work_week"
   ]
  },
  {
   "cell_type": "code",
   "execution_count": 20,
   "id": "9c59863a",
   "metadata": {},
   "outputs": [
    {
     "data": {
      "text/plain": [
       "4000"
      ]
     },
     "execution_count": 20,
     "metadata": {},
     "output_type": "execute_result"
    }
   ],
   "source": [
    "work_week[0][1]*work_week[0][2]"
   ]
  },
  {
   "cell_type": "code",
   "execution_count": 21,
   "id": "fbd23d68",
   "metadata": {},
   "outputs": [
    {
     "data": {
      "text/plain": [
       "2280"
      ]
     },
     "execution_count": 21,
     "metadata": {},
     "output_type": "execute_result"
    }
   ],
   "source": [
    "work_week[1][1]*work_week[1][2]"
   ]
  },
  {
   "cell_type": "code",
   "execution_count": 22,
   "id": "36840784",
   "metadata": {},
   "outputs": [
    {
     "data": {
      "text/plain": [
       "1400"
      ]
     },
     "execution_count": 22,
     "metadata": {},
     "output_type": "execute_result"
    }
   ],
   "source": [
    "work_week[2][1]*work_week[2][2]"
   ]
  },
  {
   "cell_type": "code",
   "execution_count": 23,
   "id": "1c761e04",
   "metadata": {},
   "outputs": [],
   "source": [
    "pay = (work_week[0][1]*work_week[0][2]) + (work_week[1][1]*work_week[1][2]) + (work_week[2][1]*work_week[2][2])"
   ]
  },
  {
   "cell_type": "code",
   "execution_count": 24,
   "id": "ee43f617",
   "metadata": {},
   "outputs": [
    {
     "name": "stdout",
     "output_type": "stream",
     "text": [
      "7680\n"
     ]
    }
   ],
   "source": [
    "print(pay)"
   ]
  },
  {
   "cell_type": "code",
   "execution_count": 26,
   "id": "50dfe438",
   "metadata": {},
   "outputs": [
    {
     "data": {
      "text/plain": [
       "7680"
      ]
     },
     "execution_count": 26,
     "metadata": {},
     "output_type": "execute_result"
    }
   ],
   "source": [
    "4000+2280+1400"
   ]
  },
  {
   "cell_type": "code",
   "execution_count": 37,
   "id": "d4e93dbc",
   "metadata": {},
   "outputs": [],
   "source": [
    "class_full = False"
   ]
  },
  {
   "cell_type": "code",
   "execution_count": 28,
   "id": "ca53842f",
   "metadata": {},
   "outputs": [],
   "source": [
    "schedule_conflict = False"
   ]
  },
  {
   "cell_type": "code",
   "execution_count": 38,
   "id": "8cff2e39",
   "metadata": {},
   "outputs": [],
   "source": [
    "take_class = (not class_full) and (not schedule_conflict)"
   ]
  },
  {
   "cell_type": "code",
   "execution_count": 39,
   "id": "ce6df533",
   "metadata": {},
   "outputs": [
    {
     "data": {
      "text/plain": [
       "True"
      ]
     },
     "execution_count": 39,
     "metadata": {},
     "output_type": "execute_result"
    }
   ],
   "source": [
    "take_class"
   ]
  },
  {
   "cell_type": "code",
   "execution_count": 45,
   "id": "236d113c",
   "metadata": {},
   "outputs": [],
   "source": [
    "items_bought = 5"
   ]
  },
  {
   "cell_type": "code",
   "execution_count": 41,
   "id": "39ddcdb9",
   "metadata": {},
   "outputs": [],
   "source": [
    "offer_expired = False"
   ]
  },
  {
   "cell_type": "code",
   "execution_count": 46,
   "id": "262252bc",
   "metadata": {},
   "outputs": [],
   "source": [
    "product_offer = (items_bought > 2) and not offer_expired"
   ]
  },
  {
   "cell_type": "code",
   "execution_count": 47,
   "id": "8a7165a8",
   "metadata": {},
   "outputs": [
    {
     "data": {
      "text/plain": [
       "False"
      ]
     },
     "execution_count": 47,
     "metadata": {},
     "output_type": "execute_result"
    }
   ],
   "source": [
    "product_offer"
   ]
  },
  {
   "cell_type": "code",
   "execution_count": null,
   "id": "2a3e74d5",
   "metadata": {},
   "outputs": [],
   "source": []
  }
 ],
 "metadata": {
  "kernelspec": {
   "display_name": "Python 3",
   "language": "python",
   "name": "python3"
  },
  "language_info": {
   "codemirror_mode": {
    "name": "ipython",
    "version": 3
   },
   "file_extension": ".py",
   "mimetype": "text/x-python",
   "name": "python",
   "nbconvert_exporter": "python",
   "pygments_lexer": "ipython3",
   "version": "3.8.8"
  }
 },
 "nbformat": 4,
 "nbformat_minor": 5
}
