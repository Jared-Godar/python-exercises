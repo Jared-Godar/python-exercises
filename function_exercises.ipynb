{
 "cells": [
  {
   "cell_type": "markdown",
   "id": "50df76c6",
   "metadata": {},
   "source": [
    "1. Define a function named `is_two`. It should accept one input and return `True` if the passed input is either the number or the string 2, `False` otherwise."
   ]
  },
  {
   "cell_type": "code",
   "execution_count": 11,
   "id": "98b7d86a",
   "metadata": {},
   "outputs": [],
   "source": [
    "def is_two(x):\n",
    "    if x == (2 or '2'):\n",
    "        return(True)\n",
    "    else:\n",
    "        return(False)"
   ]
  },
  {
   "cell_type": "code",
   "execution_count": 1,
   "id": "a84e93f8",
   "metadata": {},
   "outputs": [],
   "source": [
    "# Ecercise review answer\n",
    "\n",
    "def is_two(x):\n",
    "    return x in[2, '2']"
   ]
  },
  {
   "cell_type": "code",
   "execution_count": 2,
   "id": "52c5c908",
   "metadata": {},
   "outputs": [
    {
     "data": {
      "text/plain": [
       "True"
      ]
     },
     "execution_count": 2,
     "metadata": {},
     "output_type": "execute_result"
    }
   ],
   "source": [
    "is_two(2)"
   ]
  },
  {
   "cell_type": "markdown",
   "id": "98f24b39",
   "metadata": {},
   "source": [
    "2. Define a function named `is_vowel`. It should return `True` if the passed string is a vowel, `False` otherwise."
   ]
  },
  {
   "cell_type": "code",
   "execution_count": 24,
   "id": "46e401aa",
   "metadata": {},
   "outputs": [],
   "source": [
    "def is_vowel(l):\n",
    "    vowels=['a', 'e', 'i', 'o', 'u']\n",
    "    if l.lower() in vowels:\n",
    "        return(True)\n",
    "    else:\n",
    "        return(False)\n",
    "    \n",
    "#any way to make it convert letters to strings?\n",
    "\n"
   ]
  },
  {
   "cell_type": "code",
   "execution_count": 6,
   "id": "62bfc357",
   "metadata": {},
   "outputs": [],
   "source": [
    "#Exercise review answer\n",
    "\n",
    "def is_vowel(l):\n",
    "    return l.lower() in 'aeiou' "
   ]
  },
  {
   "cell_type": "code",
   "execution_count": 8,
   "id": "76eea56f",
   "metadata": {},
   "outputs": [
    {
     "data": {
      "text/plain": [
       "True"
      ]
     },
     "execution_count": 8,
     "metadata": {},
     "output_type": "execute_result"
    }
   ],
   "source": [
    "is_vowel('a')"
   ]
  },
  {
   "cell_type": "markdown",
   "id": "e1862c5e",
   "metadata": {},
   "source": [
    "3. Define a function named `is_consonant`. It should return `True` if the passed string is a consonant, `False` otherwise. Use your `is_vowel` function to accomplish this.\n"
   ]
  },
  {
   "cell_type": "code",
   "execution_count": 25,
   "id": "61a88589",
   "metadata": {},
   "outputs": [],
   "source": [
    "#Read directions - didn't use not is_vowel function...\n",
    "\n",
    "def is_consonant(l):\n",
    "    vowels=['a', 'e', 'i', 'o', 'u']\n",
    "    if l.lower() not in vowels:\n",
    "        return(True)\n",
    "    else:\n",
    "        return(False)"
   ]
  },
  {
   "cell_type": "code",
   "execution_count": 9,
   "id": "7f4f3ef5",
   "metadata": {},
   "outputs": [],
   "source": [
    "#Exercise review answer\n",
    "\n",
    "def is_consonant(l):\n",
    "    return not is_vowel(l)"
   ]
  },
  {
   "cell_type": "code",
   "execution_count": 11,
   "id": "231edfa5",
   "metadata": {},
   "outputs": [
    {
     "data": {
      "text/plain": [
       "True"
      ]
     },
     "execution_count": 11,
     "metadata": {},
     "output_type": "execute_result"
    }
   ],
   "source": [
    "is_consonant('t')"
   ]
  },
  {
   "cell_type": "markdown",
   "id": "8a521b67",
   "metadata": {},
   "source": [
    "4. Define a function that accepts a string that is a word. The function should capitalize the first letter of the word if the word starts with a consonant."
   ]
  },
  {
   "cell_type": "code",
   "execution_count": 12,
   "id": "ab2a1269",
   "metadata": {},
   "outputs": [],
   "source": [
    "def capitolize_word(word):\n",
    "    if is_consonant(word[0]):\n",
    "        return(word.title())\n",
    "    else:\n",
    "        return(word)"
   ]
  },
  {
   "cell_type": "code",
   "execution_count": 15,
   "id": "9d7bac4f",
   "metadata": {},
   "outputs": [],
   "source": [
    "def capitolize_word(word):\n",
    "    if is_consonant(word[0]):\n",
    "        word = word.capitalize()\n",
    "    return(word)"
   ]
  },
  {
   "cell_type": "code",
   "execution_count": 17,
   "id": "2e1c20cf",
   "metadata": {},
   "outputs": [
    {
     "data": {
      "text/plain": [
       "'Banana'"
      ]
     },
     "execution_count": 17,
     "metadata": {},
     "output_type": "execute_result"
    }
   ],
   "source": [
    "capitolize_word('banana')"
   ]
  },
  {
   "cell_type": "markdown",
   "id": "65232984",
   "metadata": {},
   "source": [
    "5. Define a function named `calculate_tip`. It should accept a tip percentage (a number between 0 and 1) and the bill total, and return the amount to tip.\n"
   ]
  },
  {
   "cell_type": "code",
   "execution_count": 33,
   "id": "f3cf09f4",
   "metadata": {},
   "outputs": [],
   "source": [
    "def calculate_tip(percent, total):\n",
    "    return (percent * total)"
   ]
  },
  {
   "cell_type": "code",
   "execution_count": 35,
   "id": "31de2fb3",
   "metadata": {},
   "outputs": [
    {
     "data": {
      "text/plain": [
       "5.0"
      ]
     },
     "execution_count": 35,
     "metadata": {},
     "output_type": "execute_result"
    }
   ],
   "source": [
    "calculate_tip(.25, 20)"
   ]
  },
  {
   "cell_type": "markdown",
   "id": "158aaf55",
   "metadata": {},
   "source": [
    "6. Define a function named `apply_discount`. It should accept a original price, and a discount percentage, and return the price after the discount is applied.\n"
   ]
  },
  {
   "cell_type": "code",
   "execution_count": 39,
   "id": "e38d35ed",
   "metadata": {},
   "outputs": [],
   "source": [
    "def apply_discount(original_price, discout_percent):\n",
    "    return(original_price * (1 - discout_percent))"
   ]
  },
  {
   "cell_type": "code",
   "execution_count": 40,
   "id": "a0ee9c98",
   "metadata": {},
   "outputs": [
    {
     "data": {
      "text/plain": [
       "85.0"
      ]
     },
     "execution_count": 40,
     "metadata": {},
     "output_type": "execute_result"
    }
   ],
   "source": [
    "apply_discount(100, .15)"
   ]
  },
  {
   "cell_type": "markdown",
   "id": "8cc94b5f",
   "metadata": {},
   "source": [
    "7. Define a function named `handle_commas`. It should accept a string that is a number that contains commas in it as input, and return a number as output."
   ]
  },
  {
   "cell_type": "code",
   "execution_count": 45,
   "id": "3f7a53e1",
   "metadata": {},
   "outputs": [],
   "source": [
    "def handle_commas(str):\n",
    "    return(float(str.replace(\",\",\"\")))"
   ]
  },
  {
   "cell_type": "code",
   "execution_count": 23,
   "id": "34b98d0d",
   "metadata": {},
   "outputs": [],
   "source": [
    "# Exercise review\n",
    "# Make an empty string and add to it when conditions satisfied\n",
    "\n",
    "def handle_commas(str):\n",
    "    number = ''\n",
    "    for char in str:\n",
    "        if char not in ',':\n",
    "            number += char\n",
    "    return int(number)"
   ]
  },
  {
   "cell_type": "code",
   "execution_count": 24,
   "id": "50d3b7f4",
   "metadata": {},
   "outputs": [
    {
     "data": {
      "text/plain": [
       "1000000000"
      ]
     },
     "execution_count": 24,
     "metadata": {},
     "output_type": "execute_result"
    }
   ],
   "source": [
    "handle_commas('1,000,000,000')"
   ]
  },
  {
   "cell_type": "markdown",
   "id": "1f61da77",
   "metadata": {},
   "source": [
    "8. Define a function named <code>get_letter_grade</code>. It should accept a number and return the letter grade associated with that number (A-F).</li>\n"
   ]
  },
  {
   "cell_type": "code",
   "execution_count": 47,
   "id": "59b5ed81",
   "metadata": {},
   "outputs": [],
   "source": [
    "def get_letter_grade(num_grade):\n",
    "    if num_grade >=90:\n",
    "        return('A')\n",
    "    elif num_grade >=80:\n",
    "        return('B')\n",
    "    elif num_grade >=70:\n",
    "        return('C')\n",
    "    elif num_grade >=60:\n",
    "        return('D')\n",
    "    else:\n",
    "        return('F')\n",
    "\n",
    "    # Note: When a function gets to a return, it stops. \n",
    "    # So this evaluates top to bottom and once we hit the range, the function is done executing"
   ]
  },
  {
   "cell_type": "code",
   "execution_count": 50,
   "id": "601eeaa6",
   "metadata": {},
   "outputs": [
    {
     "data": {
      "text/plain": [
       "'C'"
      ]
     },
     "execution_count": 50,
     "metadata": {},
     "output_type": "execute_result"
    }
   ],
   "source": [
    "get_letter_grade(75)"
   ]
  },
  {
   "cell_type": "markdown",
   "id": "089f0ed2",
   "metadata": {},
   "source": [
    "9. Define a function named <code>remove_vowels</code> that accepts a string and returns a string with all the vowels removed."
   ]
  },
  {
   "cell_type": "code",
   "execution_count": 104,
   "id": "80037581",
   "metadata": {},
   "outputs": [],
   "source": [
    "def remove_vowels(str):\n",
    "    new_str = []\n",
    "    vowels=['a', 'e', 'i', 'o', 'u']\n",
    "    for letter in str:\n",
    "        if letter not in vowels:\n",
    "            new_str.append(letter)\n",
    "    return(\"\".join(new_str))    \n"
   ]
  },
  {
   "cell_type": "code",
   "execution_count": 112,
   "id": "a217093c",
   "metadata": {},
   "outputs": [],
   "source": [
    "import re\n",
    "\n",
    "def remove_vowels(str):\n",
    "    str = re.sub(r'a|e|i|o|u','', str)\n",
    "    return(str)\n",
    "        "
   ]
  },
  {
   "cell_type": "code",
   "execution_count": 113,
   "id": "dcebf83b",
   "metadata": {},
   "outputs": [
    {
     "data": {
      "text/plain": [
       "'lxmn'"
      ]
     },
     "execution_count": 113,
     "metadata": {},
     "output_type": "execute_result"
    }
   ],
   "source": [
    "remove_vowels('laxman')"
   ]
  },
  {
   "cell_type": "markdown",
   "id": "c1ca6252",
   "metadata": {},
   "source": [
    "10. Define a function named <code>normalize_name</code>. It should accept a string and return a valid python identifier, that is:<ul>\n",
    "<li>anything that is not a valid python identifier should be removed</li>\n",
    "<li>leading and trailing whitespace should be removed</li>\n",
    "<li>everything should be lowercase</li>\n",
    "<li>spaces should be replaced with underscores</li>\n",
    "<li>for example:<ul>\n",
    "<li><code>Name</code> will become <code>name</code></li>\n",
    "<li><code>First Name</code> will become <code>first_name</code></li>\n",
    "<li><code>% Completed</code> will become <code>completed</code></li>"
   ]
  },
  {
   "cell_type": "code",
   "execution_count": 7,
   "id": "91541232",
   "metadata": {},
   "outputs": [],
   "source": [
    "import re\n",
    "\n",
    "def normalize_name(name):\n",
    "    \n",
    "    name = re.sub('\\W|^(?=\\d)','', name)\n",
    "    name = name.strip()\n",
    "    name = name.lower()\n",
    "    #name = re.sub('\\W|^(?=\\d)','', name)\n",
    "    name = name.replace(' ', '_')\n",
    "    return(name)\n",
    "#currently no check for python keywords"
   ]
  },
  {
   "cell_type": "code",
   "execution_count": 3,
   "id": "04942621",
   "metadata": {},
   "outputs": [],
   "source": [
    "def normalize_name(name):\n",
    "    name_clean = []\n",
    "    for letter in name:\n",
    "        if letter.isalnum() or letter == ' ':\n",
    "            name_clean.append(letter)\n",
    "    name_clean = \"\".join(name_clean)\n",
    "    name_clean = name_clean.strip()\n",
    "    name_clean = name_clean.lower()\n",
    "    name_clean = name_clean.replace(' ', '_')\n",
    "    if name_clean in ['False', 'None', 'True', 'and', 'as', 'assert', 'async', 'await', 'break', 'class', 'continue', 'def', 'del', 'elif', 'else', 'except', 'finally', 'for', 'from', 'global', 'if', 'import', 'in', 'is', 'lambda', 'nonlocal', 'not', 'or', 'pass', 'raise', 'return', 'try', 'while', 'with', 'yield']:\n",
    "        return('Name is a python identifier.')\n",
    "    return(name_clean)\n",
    "            \n",
    "    "
   ]
  },
  {
   "cell_type": "code",
   "execution_count": 4,
   "id": "6b76b5cb",
   "metadata": {},
   "outputs": [
    {
     "data": {
      "text/plain": [
       "'Name is a python identifier.'"
      ]
     },
     "execution_count": 4,
     "metadata": {},
     "output_type": "execute_result"
    }
   ],
   "source": [
    "normalize_name('for')"
   ]
  },
  {
   "cell_type": "markdown",
   "id": "07c6dfa7",
   "metadata": {},
   "source": [
    "12. Write a function named <code>cumulative_sum</code> that accepts a list of numbers and returns a list that is the cumulative sum of the numbers in the list.<ul>\n",
    "<li><code>cumulative_sum([1, 1, 1])</code> returns <code>[1, 2, 3]</code></li>\n",
    "<li><code>cumulative_sum([1, 2, 3, 4])</code> returns <code>[1, 3, 6, 10]</code></li>"
   ]
  },
  {
   "cell_type": "code",
   "execution_count": 65,
   "id": "b5916104",
   "metadata": {},
   "outputs": [],
   "source": [
    "def cumulative_sum(*args):\n",
    "    result=0\n",
    "    for num in args:\n",
    "        result = result + num\n",
    "    return result"
   ]
  },
  {
   "cell_type": "code",
   "execution_count": 68,
   "id": "cbb8a3ce",
   "metadata": {},
   "outputs": [
    {
     "data": {
      "text/plain": [
       "150"
      ]
     },
     "execution_count": 68,
     "metadata": {},
     "output_type": "execute_result"
    }
   ],
   "source": [
    "cumulative_sum(10, 20, 30, 40, 50)"
   ]
  },
  {
   "cell_type": "markdown",
   "id": "43189e82",
   "metadata": {},
   "source": [
    "<h3 id=\"additional-exercise\">Additional Exercise</h3>\n",
    "<ul>\n",
    "<li>Once you've completed the above exercises, follow the directions from https://gist.github.com/zgulde/ec8ed80ad8216905cda83d5645c60886 in order to thouroughly comment your code to explain your code.</li>\n",
    "</ul>\n"
   ]
  },
  {
   "cell_type": "code",
   "execution_count": null,
   "id": "0fd30a18",
   "metadata": {},
   "outputs": [],
   "source": []
  },
  {
   "cell_type": "code",
   "execution_count": null,
   "id": "b7844797",
   "metadata": {},
   "outputs": [],
   "source": []
  },
  {
   "cell_type": "markdown",
   "id": "721a36c7",
   "metadata": {},
   "source": [
    "<h3 id=\"bonus\">Bonus</h3>\n",
    "<ol>\n",
    "<li>Create a function named <code>twelveto24</code>. It should accept a string in the format <code>10:45am</code> or <code>4:30pm</code> and return a string that is the representation of the time in a 24-hour format. <strong>Bonus</strong> write a function that does the opposite.</li>\n",
    "<li>Create a function named <code>col_index</code>. It should accept a spreadsheet column name, and return the index number of the column.<ul>\n",
    "<li><code>col_index('A')</code> returns <code>1</code></li>\n",
    "<li><code>col_index('B')</code> returns <code>2</code></li>\n",
    "<li><code>col_index('AA')</code> returns <code>27</code></li>\n",
    "</ul>\n",
    "</li>\n",
    "</ol>"
   ]
  },
  {
   "cell_type": "code",
   "execution_count": null,
   "id": "570cec38",
   "metadata": {},
   "outputs": [],
   "source": []
  },
  {
   "cell_type": "code",
   "execution_count": null,
   "id": "5d3570c0",
   "metadata": {},
   "outputs": [],
   "source": []
  }
 ],
 "metadata": {
  "kernelspec": {
   "display_name": "Python 3",
   "language": "python",
   "name": "python3"
  },
  "language_info": {
   "codemirror_mode": {
    "name": "ipython",
    "version": 3
   },
   "file_extension": ".py",
   "mimetype": "text/x-python",
   "name": "python",
   "nbconvert_exporter": "python",
   "pygments_lexer": "ipython3",
   "version": "3.8.8"
  }
 },
 "nbformat": 4,
 "nbformat_minor": 5
}
