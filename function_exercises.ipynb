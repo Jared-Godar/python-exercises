{
 "cells": [
  {
   "cell_type": "markdown",
   "id": "f7734cf4",
   "metadata": {},
   "source": [
    "1. Define a function named `is_two`. It should accept one input and return `True` if the passed input is either the number or the string 2, `False` otherwise."
   ]
  },
  {
   "cell_type": "code",
   "execution_count": 11,
   "id": "f811f774",
   "metadata": {},
   "outputs": [],
   "source": [
    "def is_two(x):\n",
    "    if x == (2 or '2'):\n",
    "        return(True)\n",
    "    else:\n",
    "        return(False)"
   ]
  },
  {
   "cell_type": "code",
   "execution_count": 13,
   "id": "b131cc5b",
   "metadata": {},
   "outputs": [
    {
     "data": {
      "text/plain": [
       "True"
      ]
     },
     "execution_count": 13,
     "metadata": {},
     "output_type": "execute_result"
    }
   ],
   "source": [
    "is_two(2)"
   ]
  },
  {
   "cell_type": "markdown",
   "id": "2c75c6b5",
   "metadata": {},
   "source": [
    "2. Define a function named `is_vowel`. It should return `True` if the passed string is a vowel, `False` otherwise."
   ]
  },
  {
   "cell_type": "code",
   "execution_count": 24,
   "id": "50019a34",
   "metadata": {},
   "outputs": [],
   "source": [
    "def is_vowel(l):\n",
    "    vowels=['a', 'e', 'i', 'o', 'u']\n",
    "    if l.lower() in vowels:\n",
    "        return(True)\n",
    "    else:\n",
    "        return(False)\n",
    "    \n",
    "#any way to make it convert letters to strings?\n",
    "\n"
   ]
  },
  {
   "cell_type": "code",
   "execution_count": 21,
   "id": "83af80dd",
   "metadata": {},
   "outputs": [
    {
     "data": {
      "text/plain": [
       "False"
      ]
     },
     "execution_count": 21,
     "metadata": {},
     "output_type": "execute_result"
    }
   ],
   "source": [
    "is_vowel('b')"
   ]
  },
  {
   "cell_type": "markdown",
   "id": "bca344ef",
   "metadata": {},
   "source": [
    "3. Define a function named `is_consonant`. It should return `True` if the passed string is a consonant, `False` otherwise. Use your `is_vowel` function to accomplish this.\n"
   ]
  },
  {
   "cell_type": "code",
   "execution_count": 25,
   "id": "4edc926f",
   "metadata": {},
   "outputs": [],
   "source": [
    "def is_consonant(l):\n",
    "    vowels=['a', 'e', 'i', 'o', 'u']\n",
    "    if l.lower() not in vowels:\n",
    "        return(True)\n",
    "    else:\n",
    "        return(False)"
   ]
  },
  {
   "cell_type": "code",
   "execution_count": 27,
   "id": "565da3df",
   "metadata": {},
   "outputs": [
    {
     "data": {
      "text/plain": [
       "False"
      ]
     },
     "execution_count": 27,
     "metadata": {},
     "output_type": "execute_result"
    }
   ],
   "source": [
    "is_consonant('e')"
   ]
  },
  {
   "cell_type": "markdown",
   "id": "483164ad",
   "metadata": {},
   "source": [
    "4. Define a function that accepts a string that is a word. The function should capitalize the first letter of the word if the word starts with a consonant."
   ]
  },
  {
   "cell_type": "code",
   "execution_count": 31,
   "id": "a22e2226",
   "metadata": {},
   "outputs": [],
   "source": [
    "def capitolize_word(word):\n",
    "    if is_consonant(word[0]):\n",
    "        return(word.title())\n",
    "    else:\n",
    "        return(word)"
   ]
  },
  {
   "cell_type": "code",
   "execution_count": 32,
   "id": "db8e9aa2",
   "metadata": {},
   "outputs": [
    {
     "data": {
      "text/plain": [
       "'anana'"
      ]
     },
     "execution_count": 32,
     "metadata": {},
     "output_type": "execute_result"
    }
   ],
   "source": [
    "capitolize_word('anana')"
   ]
  },
  {
   "cell_type": "markdown",
   "id": "12795d52",
   "metadata": {},
   "source": [
    "5. Define a function named `calculate_tip`. It should accept a tip percentage (a number between 0 and 1) and the bill total, and return the amount to tip.\n"
   ]
  },
  {
   "cell_type": "code",
   "execution_count": 33,
   "id": "0028ebae",
   "metadata": {},
   "outputs": [],
   "source": [
    "def calculate_tip(percent, total):\n",
    "    return (percent * total)\n",
    "    "
   ]
  },
  {
   "cell_type": "code",
   "execution_count": 35,
   "id": "c882d651",
   "metadata": {},
   "outputs": [
    {
     "data": {
      "text/plain": [
       "5.0"
      ]
     },
     "execution_count": 35,
     "metadata": {},
     "output_type": "execute_result"
    }
   ],
   "source": [
    "calculate_tip(.25, 20)"
   ]
  },
  {
   "cell_type": "markdown",
   "id": "7ec86d05",
   "metadata": {},
   "source": [
    "6. Define a function named `apply_discount`. It should accept a original price, and a discount percentage, and return the price after the discount is applied.\n"
   ]
  },
  {
   "cell_type": "code",
   "execution_count": 39,
   "id": "3a494b30",
   "metadata": {},
   "outputs": [],
   "source": [
    "def apply_discount(original_price, discout_percent):\n",
    "    return(original_price * (1 - discout_percent))"
   ]
  },
  {
   "cell_type": "code",
   "execution_count": 40,
   "id": "be6627d3",
   "metadata": {},
   "outputs": [
    {
     "data": {
      "text/plain": [
       "85.0"
      ]
     },
     "execution_count": 40,
     "metadata": {},
     "output_type": "execute_result"
    }
   ],
   "source": [
    "apply_discount(100, .15)"
   ]
  },
  {
   "cell_type": "markdown",
   "id": "38e7b747",
   "metadata": {},
   "source": [
    "7. Define a function named `handle_commas`. It should accept a string that is a number that contains commas in it as input, and return a number as output."
   ]
  },
  {
   "cell_type": "code",
   "execution_count": 45,
   "id": "3b0f9670",
   "metadata": {},
   "outputs": [],
   "source": [
    "def handle_commas(str):\n",
    "    return(float(str.replace(\",\",\"\")))"
   ]
  },
  {
   "cell_type": "code",
   "execution_count": 46,
   "id": "927bc4fb",
   "metadata": {},
   "outputs": [
    {
     "data": {
      "text/plain": [
       "1000000000.0"
      ]
     },
     "execution_count": 46,
     "metadata": {},
     "output_type": "execute_result"
    }
   ],
   "source": [
    "handle_commas('1,000,000,000')"
   ]
  },
  {
   "cell_type": "markdown",
   "id": "646a172e",
   "metadata": {},
   "source": [
    "8. Define a function named <code>get_letter_grade</code>. It should accept a number and return the letter grade associated with that number (A-F).</li>\n"
   ]
  },
  {
   "cell_type": "code",
   "execution_count": 47,
   "id": "ea71ab99",
   "metadata": {},
   "outputs": [],
   "source": [
    "def get_letter_grade(num_grade):\n",
    "    if num_grade >=90:\n",
    "        return('A')\n",
    "    elif num_grade >=80:\n",
    "        return('B')\n",
    "    elif num_grade >=70:\n",
    "        return('C')\n",
    "    elif num_grade >=60:\n",
    "        return('D')\n",
    "    else:\n",
    "        return('F')"
   ]
  },
  {
   "cell_type": "code",
   "execution_count": 50,
   "id": "218da2c8",
   "metadata": {},
   "outputs": [
    {
     "data": {
      "text/plain": [
       "'C'"
      ]
     },
     "execution_count": 50,
     "metadata": {},
     "output_type": "execute_result"
    }
   ],
   "source": [
    "get_letter_grade(75)"
   ]
  },
  {
   "cell_type": "markdown",
   "id": "d27b3f5b",
   "metadata": {},
   "source": [
    "9. Define a function named <code>remove_vowels</code> that accepts a string and returns a string with all the vowels removed."
   ]
  },
  {
   "cell_type": "code",
   "execution_count": 59,
   "id": "6ff1130f",
   "metadata": {},
   "outputs": [],
   "source": [
    "def remove_vowels(str):\n",
    "    new_str = []\n",
    "    vowels=['a', 'e', 'i', 'o', 'u']\n",
    "    for letter in str:\n",
    "        if letter not in vowels:\n",
    "            new_str.append(letter)\n",
    "    return(\"\".join(new_str))    \n"
   ]
  },
  {
   "cell_type": "code",
   "execution_count": 60,
   "id": "3a25bb12",
   "metadata": {},
   "outputs": [
    {
     "data": {
      "text/plain": [
       "'brcdbr'"
      ]
     },
     "execution_count": 60,
     "metadata": {},
     "output_type": "execute_result"
    }
   ],
   "source": [
    "remove_vowels('abracadabra')"
   ]
  },
  {
   "cell_type": "markdown",
   "id": "98911bc5",
   "metadata": {},
   "source": [
    "10. Define a function named <code>normalize_name</code>. It should accept a string and return a valid python identifier, that is:<ul>\n",
    "<li>anything that is not a valid python identifier should be removed</li>\n",
    "<li>leading and trailing whitespace should be removed</li>\n",
    "<li>everything should be lowercase</li>\n",
    "<li>spaces should be replaced with underscores</li>\n",
    "<li>for example:<ul>\n",
    "<li><code>Name</code> will become <code>name</code></li>\n",
    "<li><code>First Name</code> will become <code>first_name</code></li>\n",
    "<li><code>% Completed</code> will become <code>completed</code></li>"
   ]
  },
  {
   "cell_type": "code",
   "execution_count": null,
   "id": "cb60e82a",
   "metadata": {},
   "outputs": [],
   "source": []
  },
  {
   "cell_type": "code",
   "execution_count": null,
   "id": "05f17eed",
   "metadata": {},
   "outputs": [],
   "source": []
  },
  {
   "cell_type": "markdown",
   "id": "f24f16fc",
   "metadata": {},
   "source": [
    "12. Write a function named <code>cumulative_sum</code> that accepts a list of numbers and returns a list that is the cumulative sum of the numbers in the list.<ul>\n",
    "<li><code>cumulative_sum([1, 1, 1])</code> returns <code>[1, 2, 3]</code></li>\n",
    "<li><code>cumulative_sum([1, 2, 3, 4])</code> returns <code>[1, 3, 6, 10]</code></li>"
   ]
  },
  {
   "cell_type": "code",
   "execution_count": 65,
   "id": "54081ec2",
   "metadata": {},
   "outputs": [],
   "source": [
    "def cumulative_sum(*args):\n",
    "    result=0\n",
    "    for num in args:\n",
    "        result = result + num\n",
    "    return result"
   ]
  },
  {
   "cell_type": "code",
   "execution_count": 68,
   "id": "bfc2a2df",
   "metadata": {},
   "outputs": [
    {
     "data": {
      "text/plain": [
       "150"
      ]
     },
     "execution_count": 68,
     "metadata": {},
     "output_type": "execute_result"
    }
   ],
   "source": [
    "cumulative_sum(10, 20, 30, 40, 50)"
   ]
  },
  {
   "cell_type": "markdown",
   "id": "3148b0ec",
   "metadata": {},
   "source": [
    "<h3 id=\"additional-exercise\">Additional Exercise</h3>\n",
    "<ul>\n",
    "<li>Once you've completed the above exercises, follow the directions from https://gist.github.com/zgulde/ec8ed80ad8216905cda83d5645c60886 in order to thouroughly comment your code to explain your code.</li>\n",
    "</ul>\n"
   ]
  },
  {
   "cell_type": "code",
   "execution_count": null,
   "id": "086b2434",
   "metadata": {},
   "outputs": [],
   "source": []
  },
  {
   "cell_type": "code",
   "execution_count": null,
   "id": "88d17e25",
   "metadata": {},
   "outputs": [],
   "source": []
  },
  {
   "cell_type": "markdown",
   "id": "094ce015",
   "metadata": {},
   "source": [
    "<h3 id=\"bonus\">Bonus</h3>\n",
    "<ol>\n",
    "<li>Create a function named <code>twelveto24</code>. It should accept a string in the format <code>10:45am</code> or <code>4:30pm</code> and return a string that is the representation of the time in a 24-hour format. <strong>Bonus</strong> write a function that does the opposite.</li>\n",
    "<li>Create a function named <code>col_index</code>. It should accept a spreadsheet column name, and return the index number of the column.<ul>\n",
    "<li><code>col_index('A')</code> returns <code>1</code></li>\n",
    "<li><code>col_index('B')</code> returns <code>2</code></li>\n",
    "<li><code>col_index('AA')</code> returns <code>27</code></li>\n",
    "</ul>\n",
    "</li>\n",
    "</ol>"
   ]
  },
  {
   "cell_type": "code",
   "execution_count": null,
   "id": "a6e6b23b",
   "metadata": {},
   "outputs": [],
   "source": []
  },
  {
   "cell_type": "code",
   "execution_count": null,
   "id": "7a670d66",
   "metadata": {},
   "outputs": [],
   "source": []
  }
 ],
 "metadata": {
  "kernelspec": {
   "display_name": "Python 3",
   "language": "python",
   "name": "python3"
  },
  "language_info": {
   "codemirror_mode": {
    "name": "ipython",
    "version": 3
   },
   "file_extension": ".py",
   "mimetype": "text/x-python",
   "name": "python",
   "nbconvert_exporter": "python",
   "pygments_lexer": "ipython3",
   "version": "3.8.8"
  }
 },
 "nbformat": 4,
 "nbformat_minor": 5
}
