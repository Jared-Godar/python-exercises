{
 "cells": [
  {
   "cell_type": "markdown",
   "id": "acc49747",
   "metadata": {},
   "source": [
    "## 1. Conditional Basics\n",
    "\n",
    "- a. prompt the user for a day of the week, print out whether the day is Monday or not"
   ]
  },
  {
   "cell_type": "code",
   "execution_count": 27,
   "id": "19b2c91f",
   "metadata": {},
   "outputs": [
    {
     "name": "stdout",
     "output_type": "stream",
     "text": [
      "Enter day of the week: Sat\n",
      "Today is Sat\n"
     ]
    }
   ],
   "source": [
    "user_day = input('Enter day of the week: ')\n",
    "\n",
    "if user_day.lower() == ('monday' or 'm' or 'mon'):\n",
    "    print('Today is Monday')\n",
    "else:\n",
    "    #print('Today is not Monday') # Or the user entered gibberish or misspelled a weekday...\n",
    "    print(f'Today is {user_day.capitalize()}')"
   ]
  },
  {
   "cell_type": "markdown",
   "id": "72fe0758",
   "metadata": {},
   "source": [
    "- b. prompt the user for a day of the week, print out whether the day is a weekday or a weekend"
   ]
  },
  {
   "cell_type": "code",
   "execution_count": 32,
   "id": "80cee4ce",
   "metadata": {},
   "outputs": [
    {
     "name": "stdout",
     "output_type": "stream",
     "text": [
      "Enter day of the week: sdf\n",
      "Invalid input. Please enter the day of the week:aerygt\n",
      "Invalid input. Please enter the day of the week:monday\n",
      "Today is a weekday\n"
     ]
    }
   ],
   "source": [
    "user_day = input('Enter day of the week: ')\n",
    "weekdays = ['monday', 'tuesday', 'wednesday', 'thursday', 'friday']\n",
    " \n",
    "    \n",
    "while user_day.lower() not in ['monday', 'tuesday', 'wednesday', 'thursday', 'friday', 'saturday', 'sunday']:\n",
    "    user_day = input('Invalid input. Please enter the day of the week:')\n",
    "    \n",
    "\n",
    "if user_day.lower() in weekdays:\n",
    "    print('Today is a weekday')\n",
    "else:\n",
    "    print('Today is a weekend') # Or the user entered gibberish or misspelled a weekday...\n",
    "    \n",
    "# Easier to define weekend explicityl in list since it is a shorter list of string options\n",
    "# Can do a while loop for data protection\n",
    "\n"
   ]
  },
  {
   "cell_type": "markdown",
   "id": "8412f233",
   "metadata": {},
   "source": [
    "- c. create variables and make up values for\n",
    "\n",
    "    - the number of hours worked in one week\n",
    "    \n",
    "    - the hourly rate\n",
    "    \n",
    "    - how much the week's paycheck will be"
   ]
  },
  {
   "cell_type": "code",
   "execution_count": 33,
   "id": "e3a653ce",
   "metadata": {},
   "outputs": [
    {
     "name": "stdout",
     "output_type": "stream",
     "text": [
      "2500\n"
     ]
    }
   ],
   "source": [
    "hours_worked = 50\n",
    "hourly_rate = 50\n",
    "\n",
    "paycheck = hours_worked * hourly_rate\n",
    "print(paycheck)"
   ]
  },
  {
   "cell_type": "markdown",
   "id": "02df845b",
   "metadata": {},
   "source": [
    "- d. write the python code that calculates the weekly paycheck. You get paid time and a half if you work more than 40 hours"
   ]
  },
  {
   "cell_type": "code",
   "execution_count": 34,
   "id": "4dce229f",
   "metadata": {},
   "outputs": [
    {
     "name": "stdout",
     "output_type": "stream",
     "text": [
      "2750.0\n"
     ]
    }
   ],
   "source": [
    "if hours_worked > 40:\n",
    "    paycheck = (hourly_rate * 40) + (1.5 * hourly_rate) * (hours_worked - 40)\n",
    "else:\n",
    "    paycheck = hours_worked * hourly_rate\n",
    "print(paycheck)"
   ]
  },
  {
   "cell_type": "markdown",
   "id": "ce8693da",
   "metadata": {},
   "source": [
    "---"
   ]
  },
  {
   "cell_type": "markdown",
   "id": "00c0d436",
   "metadata": {},
   "source": [
    "# 2. Loop Basics\n",
    "\n",
    "### - a. While\n",
    "\n",
    "- Create an integer variable i with a value of 5.\n",
    "- Create a while loop that runs so long as i is less than or equal to 15\n",
    "- Each loop iteration, output the current value of i, then increment i by one.\n",
    "    Your output should look like this:\n",
    "\n",
    "\n",
    "    5\n",
    "    6\n",
    "    7\n",
    "    8\n",
    "    9\n",
    "    10\n",
    "    11\n",
    "    12\n",
    "    13\n",
    "    14\n",
    "    15"
   ]
  },
  {
   "cell_type": "code",
   "execution_count": 35,
   "id": "274d2a63",
   "metadata": {},
   "outputs": [
    {
     "name": "stdout",
     "output_type": "stream",
     "text": [
      "5\n",
      "6\n",
      "7\n",
      "8\n",
      "9\n",
      "10\n",
      "11\n",
      "12\n",
      "13\n",
      "14\n",
      "15\n"
     ]
    }
   ],
   "source": [
    "i = 5\n",
    "\n",
    "while i <= 15:\n",
    "    print(i)\n",
    "    i +=1 "
   ]
  },
  {
   "cell_type": "markdown",
   "id": "d3146a0c",
   "metadata": {},
   "source": [
    "- Create a while loop that will count by 2's starting with 0 and ending at 100. Follow each number with a new line."
   ]
  },
  {
   "cell_type": "code",
   "execution_count": 36,
   "id": "3200f793",
   "metadata": {},
   "outputs": [
    {
     "name": "stdout",
     "output_type": "stream",
     "text": [
      "0\n",
      "2\n",
      "4\n",
      "6\n",
      "8\n",
      "10\n",
      "12\n",
      "14\n",
      "16\n",
      "18\n",
      "20\n",
      "22\n",
      "24\n",
      "26\n",
      "28\n",
      "30\n",
      "32\n",
      "34\n",
      "36\n",
      "38\n",
      "40\n",
      "42\n",
      "44\n",
      "46\n",
      "48\n",
      "50\n",
      "52\n",
      "54\n",
      "56\n",
      "58\n",
      "60\n",
      "62\n",
      "64\n",
      "66\n",
      "68\n",
      "70\n",
      "72\n",
      "74\n",
      "76\n",
      "78\n",
      "80\n",
      "82\n",
      "84\n",
      "86\n",
      "88\n",
      "90\n",
      "92\n",
      "94\n",
      "96\n",
      "98\n",
      "100\n"
     ]
    }
   ],
   "source": [
    "i = 0\n",
    "\n",
    "while i <=100:\n",
    "    print(i)\n",
    "    i += 2"
   ]
  },
  {
   "cell_type": "markdown",
   "id": "726f34bb",
   "metadata": {},
   "source": [
    "- Alter your loop to count backwards by 5's from 100 to -10.\n"
   ]
  },
  {
   "cell_type": "code",
   "execution_count": 37,
   "id": "c6c97dc7",
   "metadata": {},
   "outputs": [
    {
     "name": "stdout",
     "output_type": "stream",
     "text": [
      "100\n",
      "95\n",
      "90\n",
      "85\n",
      "80\n",
      "75\n",
      "70\n",
      "65\n",
      "60\n",
      "55\n",
      "50\n",
      "45\n",
      "40\n",
      "35\n",
      "30\n",
      "25\n",
      "20\n",
      "15\n",
      "10\n",
      "5\n",
      "0\n",
      "-5\n",
      "-10\n"
     ]
    }
   ],
   "source": [
    "i = 100\n",
    "\n",
    "while i >= -10:\n",
    "    print(i)\n",
    "    i -= 5"
   ]
  },
  {
   "cell_type": "markdown",
   "id": "167e1c0c",
   "metadata": {},
   "source": [
    "- Create a `while` loop that starts at 2, and displays the number squared on each line while the number is less than 1,000,000. Output should equal:\n",
    "\n",
    "     2<br/>\n",
    "     4<br/>\n",
    "     16<br/>\n",
    "     256<br/>\n",
    "     65536<br/>"
   ]
  },
  {
   "cell_type": "code",
   "execution_count": 39,
   "id": "d25de9c4",
   "metadata": {},
   "outputs": [
    {
     "name": "stdout",
     "output_type": "stream",
     "text": [
      "2\n",
      "4\n",
      "16\n",
      "256\n",
      "65536\n"
     ]
    }
   ],
   "source": [
    "i = 2\n",
    "\n",
    "while i < 1_000_000:\n",
    "    print(i)\n",
    "    i **= 2"
   ]
  },
  {
   "cell_type": "markdown",
   "id": "829de146",
   "metadata": {},
   "source": [
    "- Write a loop that uses `print` to create the output shown below.\n",
    "\n",
    "\n",
    "100<br/>\n",
    "95<br/>\n",
    "90<br/>\n",
    "85<br/>\n",
    "80<br/>\n",
    "75<br/>\n",
    "70<br/>\n",
    "65<br/>\n",
    "60<br/>\n",
    "55<br/>\n",
    "50<br/>\n",
    "45<br/>\n",
    "40<br/>\n",
    "35<br/>\n",
    "30<br/>\n",
    "25<br/>\n",
    "20<br/>\n",
    "15<br/>\n",
    "10<br/>\n",
    "5"
   ]
  },
  {
   "cell_type": "code",
   "execution_count": null,
   "id": "cde964fa",
   "metadata": {},
   "outputs": [],
   "source": [
    "i = 100\n",
    "\n",
    "while i >=5:\n",
    "    print(i)\n",
    "    i -= 5"
   ]
  },
  {
   "cell_type": "markdown",
   "id": "6cbda3cc",
   "metadata": {},
   "source": [
    "## - b. For Loops"
   ]
  },
  {
   "cell_type": "markdown",
   "id": "9dce06f6",
   "metadata": {},
   "source": [
    "- i. Write some code that prompts the user for a number, then shows a multiplication table up through 10 for that number.\n",
    "\n",
    "    - For example, if the user enters 7, your program should output:\n",
    "\n",
    "\n",
    "    7 x 1 = 7\n",
    "    7 x 2 = 14\n",
    "    7 x 3 = 21\n",
    "    7 x 4 = 28\n",
    "    7 x 5 = 35\n",
    "    7 x 6 = 42\n",
    "    7 x 7 = 49\n",
    "    7 x 8 = 56\n",
    "    7 x 9 = 63\n",
    "    7 x 10 = 70"
   ]
  },
  {
   "cell_type": "code",
   "execution_count": 42,
   "id": "2a10b753",
   "metadata": {},
   "outputs": [
    {
     "name": "stdout",
     "output_type": "stream",
     "text": [
      "Enter a number: 5\n",
      "5 * 1 = 5\n",
      "5 * 2 = 10\n",
      "5 * 3 = 15\n",
      "5 * 4 = 20\n",
      "5 * 5 = 25\n",
      "5 * 6 = 30\n",
      "5 * 7 = 35\n",
      "5 * 8 = 40\n",
      "5 * 9 = 45\n",
      "5 * 10 = 50\n"
     ]
    }
   ],
   "source": [
    "user_number = input('Enter a number: ')\n",
    "i = 1\n",
    "\n",
    "#while i <= 10:\n",
    "    #print(user_number, 'x', i,  '=', int(user_number) * i)\n",
    "    #i += 1\n",
    "    \n",
    "for i in range(1,11):\n",
    "    print(f'{user_number} * {i} = {int(user_number) * i}')"
   ]
  },
  {
   "cell_type": "markdown",
   "id": "19ca620d",
   "metadata": {},
   "source": [
    "- ii. Create a `for` loop that uses `print` to create the output shown below.\n",
    "\n",
    "\n",
    "1<br/>\n",
    "22<br/>\n",
    "333<br/>\n",
    "4444<br/>\n",
    "55555<br/>\n",
    "666666<br/>\n",
    "7777777<br/>\n",
    "88888888<br/>\n",
    "999999999<br/>"
   ]
  },
  {
   "cell_type": "code",
   "execution_count": 43,
   "id": "97baf51c",
   "metadata": {},
   "outputs": [
    {
     "name": "stdout",
     "output_type": "stream",
     "text": [
      "1\n",
      "22\n",
      "333\n",
      "4444\n",
      "55555\n",
      "666666\n",
      "7777777\n",
      "88888888\n",
      "999999999\n"
     ]
    }
   ],
   "source": [
    "for num in range(1,10):\n",
    "    print(str(num)*(num))"
   ]
  },
  {
   "cell_type": "markdown",
   "id": "5f6b139a",
   "metadata": {},
   "source": [
    "## -c. `break` and `continue`\n",
    "\n",
    "- Prompt the user for an odd number between 1 and 50. Use a loop and a break statement to continue prompting the user if they enter invalid input. (Hint: use the isdigit method on strings to determine this). Use a loop and the continue statement to output all the odd numbers between 1 and 50, except for the number the user entered.\n",
    "\n",
    "- Your output should look like this:\n",
    "\n",
    "\n",
    "    Number to skip is: 27\n",
    "\n",
    "    Here is an odd number: 1\n",
    "    Here is an odd number: 3\n",
    "    Here is an odd number: 5\n",
    "    Here is an odd number: 7\n",
    "    Here is an odd number: 9\n",
    "    Here is an odd number: 11\n",
    "    Here is an odd number: 13\n",
    "    Here is an odd number: 15\n",
    "    Here is an odd number: 17\n",
    "    Here is an odd number: 19\n",
    "    Here is an odd number: 21\n",
    "    Here is an odd number: 23\n",
    "    Here is an odd number: 25\n",
    "    Yikes! Skipping number: 27\n",
    "    Here is an odd number: 29\n",
    "    Here is an odd number: 31\n",
    "    Here is an odd number: 33\n",
    "    Here is an odd number: 35\n",
    "    Here is an odd number: 37\n",
    "    Here is an odd number: 39\n",
    "    Here is an odd number: 41\n",
    "    Here is an odd number: 43\n",
    "    Here is an odd number: 45\n",
    "    Here is an odd number: 47\n",
    "    Here is an odd number: 49"
   ]
  },
  {
   "cell_type": "code",
   "execution_count": null,
   "id": "8731cd45",
   "metadata": {},
   "outputs": [],
   "source": [
    "#Code sample from Ryan:\n",
    "\n",
    "# Prompt a user for the color of a traffic light \"green\", \"yellow\", or \"red\"\n",
    "# Continue prompting the user until their input is \"green\", \"yellow\", or \"red\"\n",
    "user_input = input(\"Please enter the traffic light's status of green yellow or red\")\n",
    "\n",
    "print(user_input)\n",
    "\n",
    "# We can make a while loop that only runs if the user_input is not in the specified options\n",
    "# In this case, the while loop only runs if the user_input value is not in the specified options/range\n",
    "while user_input not in ('green', 'yellow', 'red'):\n",
    "    print(f\"{user_input} is not a valid option for a traffic light\")\n",
    "    user_input = input(\"Please enter the traffic light's status of green yellow or red\")\n",
    "    print()\n",
    "\n",
    "print(f\"The valid traffic light option the user choose was: {user_input}\")"
   ]
  },
  {
   "cell_type": "code",
   "execution_count": null,
   "id": "9c1fe559",
   "metadata": {},
   "outputs": [],
   "source": [
    "while True:\n",
    "    print('Enter an odd number between 1 and 50')\n",
    "    user_odd = input()\n",
    "    if user_odd.isdigit() == False:\n",
    "        #int(user_odd) - DOn't want to cast as integer until you know it is a digit or else it will break the program\n",
    "        print('Please enter a number')\n",
    "        continue\n",
    "    if int(user_odd) not in range(1,51):\n",
    "        print('Please enter a number between 1 and 50')\n",
    "        continue\n",
    "    if int(user_odd) % 2 != 1:\n",
    "        print('Please enter an odd number')\n",
    "        continue\n",
    "    if (user_odd.isdigit() and int(user_odd) in range(1,51) and int(user_odd) % 2 == 1):\n",
    "        break\n",
    "        \n",
    "user_odd = int(user_odd)\n",
    "\n",
    "i = 1\n",
    "while i <50:\n",
    "    if i != user_odd:\n",
    "        print('Here is an odd number:', i)\n",
    "        i +=2\n",
    "    elif i == user_odd:\n",
    "        print('Yikes! Skipping number', user_odd)\n",
    "        i += 2"
   ]
  },
  {
   "cell_type": "markdown",
   "id": "3c6ed63b",
   "metadata": {},
   "source": [
    "-d. The input function can be used to prompt for input and use that input in your python code.<br/>\n",
    "    - Prompt the user to enter a positive number and \n",
    "    - write a loop that counts from 0 to that number. \n",
    "    - (Hints: first make sure that the value the user entered is a valid number, also note that the input function returns a string, so you'll need to convert this to a numeric type.)"
   ]
  },
  {
   "cell_type": "code",
   "execution_count": 6,
   "id": "64be46fb",
   "metadata": {},
   "outputs": [
    {
     "name": "stdout",
     "output_type": "stream",
     "text": [
      "Enter a positive number:-5\n",
      "Invalid Input\n",
      "Enter a positive number:s\n",
      "Invalid Input\n",
      "Enter a positive number:60\n",
      "0\n",
      "1\n",
      "2\n",
      "3\n",
      "4\n",
      "5\n",
      "6\n",
      "7\n",
      "8\n",
      "9\n",
      "10\n",
      "11\n",
      "12\n",
      "13\n",
      "14\n",
      "15\n",
      "16\n",
      "17\n",
      "18\n",
      "19\n",
      "20\n",
      "21\n",
      "22\n",
      "23\n",
      "24\n",
      "25\n",
      "26\n",
      "27\n",
      "28\n",
      "29\n",
      "30\n",
      "31\n",
      "32\n",
      "33\n",
      "34\n",
      "35\n",
      "36\n",
      "37\n",
      "38\n",
      "39\n",
      "40\n",
      "41\n",
      "42\n",
      "43\n",
      "44\n",
      "45\n",
      "46\n",
      "47\n",
      "48\n",
      "49\n",
      "50\n",
      "51\n",
      "52\n",
      "53\n",
      "54\n",
      "55\n",
      "56\n",
      "57\n",
      "58\n",
      "59\n",
      "60\n"
     ]
    }
   ],
   "source": [
    "user_number = input('Enter a positive number:')\n",
    "i = 0\n",
    "\n",
    "while True:\n",
    "    if(user_number.isdigit() == False or int(user_number) < 0):\n",
    "        print('Invalid Input')\n",
    "        user_number = input('Enter a positive number:')\n",
    "    else:\n",
    "        break\n",
    "user_number = int(user_number)\n",
    "\n",
    "while i <= user_number:\n",
    "    print(i)\n",
    "    i +=1\n"
   ]
  },
  {
   "cell_type": "markdown",
   "id": "185b6f4f",
   "metadata": {},
   "source": [
    "- e. Write a program that prompts the user for a positive integer. Next write a loop that prints out the numbers from the number the user entered down to 1."
   ]
  },
  {
   "cell_type": "code",
   "execution_count": 7,
   "id": "1a655fa1",
   "metadata": {},
   "outputs": [
    {
     "name": "stdout",
     "output_type": "stream",
     "text": [
      "Enter a positive integer: 50\n",
      "50\n",
      "49\n",
      "48\n",
      "47\n",
      "46\n",
      "45\n",
      "44\n",
      "43\n",
      "42\n",
      "41\n",
      "40\n",
      "39\n",
      "38\n",
      "37\n",
      "36\n",
      "35\n",
      "34\n",
      "33\n",
      "32\n",
      "31\n",
      "30\n",
      "29\n",
      "28\n",
      "27\n",
      "26\n",
      "25\n",
      "24\n",
      "23\n",
      "22\n",
      "21\n",
      "20\n",
      "19\n",
      "18\n",
      "17\n",
      "16\n",
      "15\n",
      "14\n",
      "13\n",
      "12\n",
      "11\n",
      "10\n",
      "9\n",
      "8\n",
      "7\n",
      "6\n",
      "5\n",
      "4\n",
      "3\n",
      "2\n"
     ]
    }
   ],
   "source": [
    "user_number = input('Enter a positive integer: ')\n",
    "n = int(user_number)\n",
    "\n",
    "while n > 1:\n",
    "    print(n)\n",
    "    n -= 1"
   ]
  },
  {
   "cell_type": "markdown",
   "id": "60d5bb52",
   "metadata": {},
   "source": [
    "## 3.  Fizzbuzz\n",
    "\n",
    "One of the most common interview questions for entry-level programmers is the FizzBuzz test. Developed by Imran Ghory, the test is designed to test basic looping and conditional logic skills."
   ]
  },
  {
   "cell_type": "markdown",
   "id": "b0cf7d7e",
   "metadata": {},
   "source": [
    "- Write a program that prints the numbers from 1 to 100."
   ]
  },
  {
   "cell_type": "code",
   "execution_count": null,
   "id": "dc8dbd7a",
   "metadata": {},
   "outputs": [],
   "source": [
    "for num in range(1,101):\n",
    "    print(num)"
   ]
  },
  {
   "cell_type": "markdown",
   "id": "f91ff659",
   "metadata": {},
   "source": [
    "- For multiples of three print \"Fizz\" instead of the number"
   ]
  },
  {
   "cell_type": "code",
   "execution_count": null,
   "id": "0916bac7",
   "metadata": {},
   "outputs": [],
   "source": [
    "for num in range(1,101):\n",
    "    if num % 3 == 0:\n",
    "        print('Fizz')\n",
    "    else:\n",
    "        print(num)"
   ]
  },
  {
   "cell_type": "markdown",
   "id": "12f9b259",
   "metadata": {},
   "source": [
    "- For the multiples of five print \"Buzz\"."
   ]
  },
  {
   "cell_type": "code",
   "execution_count": null,
   "id": "6197db42",
   "metadata": {},
   "outputs": [],
   "source": [
    "for num in range(1,101):\n",
    "    if num % 3 == 0:\n",
    "        print('Fizz')\n",
    "    elif num % 5 == 0:\n",
    "        print('Buzz')\n",
    "    else:\n",
    "        print(num)"
   ]
  },
  {
   "cell_type": "markdown",
   "id": "607245a8",
   "metadata": {},
   "source": [
    "- For numbers which are multiples of both three and five print \"FizzBuzz\"."
   ]
  },
  {
   "cell_type": "code",
   "execution_count": null,
   "id": "e0685062",
   "metadata": {},
   "outputs": [],
   "source": [
    "for num in range(1,101):\n",
    "    if (num % 3 == 0 and num % 5 ==0):\n",
    "        print('FizzBuzz')\n",
    "    elif num % 3 == 0:\n",
    "        print('Fizz')\n",
    "    elif num % 5 == 0:\n",
    "        print('Buzz')\n",
    "    else:\n",
    "        print(num)"
   ]
  },
  {
   "cell_type": "markdown",
   "id": "78c37f11",
   "metadata": {},
   "source": [
    "## 4. Display a table of powers.\n",
    "- Prompt the user to enter an integer\n",
    "- Display a table of squares and cubes from 1 to the value entered.\n",
    "- Ask if the user wants to continue.\n",
    "- Assume that the user will enter valid data.\n",
    "- Only continue if the user agrees to.\n"
   ]
  },
  {
   "cell_type": "code",
   "execution_count": 8,
   "id": "c4509cde",
   "metadata": {},
   "outputs": [
    {
     "name": "stdout",
     "output_type": "stream",
     "text": [
      "What number would you like to go up to?17\n",
      "Would you like to continue? (y or n):y\n",
      "Here is your table:\n",
      "Number    | Squared    |Cubed \n",
      "----------|------------|-------\n",
      "1           1            1\n",
      "2           4            8\n",
      "3           9            27\n",
      "4           16            64\n",
      "5           25            125\n",
      "6           36            216\n",
      "7           49            343\n",
      "8           64            512\n",
      "9           81            729\n",
      "10           100            1000\n",
      "11           121            1331\n",
      "12           144            1728\n",
      "13           169            2197\n",
      "14           196            2744\n",
      "15           225            3375\n",
      "16           256            4096\n",
      "17           289            4913\n"
     ]
    }
   ],
   "source": [
    "user_num = input('What number would you like to go up to?')\n",
    "n = int(user_num)\n",
    "con = str(input('Would you like to continue? (y or n):'))\n",
    "i = 1\n",
    "\n",
    "if con.lower() == 'y':\n",
    "    print('Here is your table:')\n",
    "    print('Number    | Squared    |Cubed ')\n",
    "    print('----------|------------|-------')\n",
    "    while i <= n:\n",
    "        print(i, '         ', i ** 2, '          ', i ** 3)\n",
    "        i +=1"
   ]
  },
  {
   "cell_type": "markdown",
   "id": "e07b71bd",
   "metadata": {},
   "source": [
    "**Bonus:** Research python's format string specifiers to align the table"
   ]
  },
  {
   "cell_type": "code",
   "execution_count": 19,
   "id": "0eeeea1a",
   "metadata": {},
   "outputs": [
    {
     "name": "stdout",
     "output_type": "stream",
     "text": [
      "What number would you like to go up to?25\n",
      "Would you like to continue? (y or n):y\n",
      "Here is your table:\n",
      "  Number    Squared     Cubed   \n",
      "    1          1          1     \n",
      "    2          4          8     \n",
      "    3          9          27    \n",
      "    4          16         64    \n",
      "    5          25        125    \n",
      "    6          36        216    \n",
      "    7          49        343    \n",
      "    8          64        512    \n",
      "    9          81        729    \n",
      "    10        100        1000   \n",
      "    11        121        1331   \n",
      "    12        144        1728   \n",
      "    13        169        2197   \n",
      "    14        196        2744   \n",
      "    15        225        3375   \n",
      "    16        256        4096   \n",
      "    17        289        4913   \n",
      "    18        324        5832   \n",
      "    19        361        6859   \n",
      "    20        400        8000   \n",
      "    21        441        9261   \n",
      "    22        484       10648   \n",
      "    23        529       12167   \n",
      "    24        576       13824   \n",
      "    25        625       15625   \n"
     ]
    }
   ],
   "source": [
    "user_num = input('What number would you like to go up to?')\n",
    "n = int(user_num)\n",
    "con = str(input('Would you like to continue? (y or n):'))\n",
    "i = 1\n",
    "\n",
    "if con.lower() == 'y':\n",
    "    print('Here is your table:')\n",
    "    print (\"{:^10} {:^10} {:^10}\".format('Number', 'Squared', 'Cubed'))\n",
    "    while i <= n:\n",
    "        nums = [i, i **2, i ** 3]\n",
    "        print(\"{:^10} {:^10} {:^10}\".format(nums[0], nums[1], nums[2]))\n",
    "        i +=1"
   ]
  },
  {
   "cell_type": "code",
   "execution_count": 26,
   "id": "f96a8b90",
   "metadata": {},
   "outputs": [
    {
     "name": "stdout",
     "output_type": "stream",
     "text": [
      "What number would you like to go up to?17\n",
      "Would you like to continue? (y or n):y\n",
      "Here is your table:\n",
      "-  -  -\n",
      "1  1  1\n",
      "-  -  -\n",
      "-  -  -\n",
      "1  1  1\n",
      "2  4  8\n",
      "-  -  -\n",
      "-  -  --\n",
      "1  1   1\n",
      "2  4   8\n",
      "3  9  27\n",
      "-  -  --\n",
      "-  --  --\n",
      "1   1   1\n",
      "2   4   8\n",
      "3   9  27\n",
      "4  16  64\n",
      "-  --  --\n",
      "-  --  ---\n",
      "1   1    1\n",
      "2   4    8\n",
      "3   9   27\n",
      "4  16   64\n",
      "5  25  125\n",
      "-  --  ---\n",
      "-  --  ---\n",
      "1   1    1\n",
      "2   4    8\n",
      "3   9   27\n",
      "4  16   64\n",
      "5  25  125\n",
      "6  36  216\n",
      "-  --  ---\n",
      "-  --  ---\n",
      "1   1    1\n",
      "2   4    8\n",
      "3   9   27\n",
      "4  16   64\n",
      "5  25  125\n",
      "6  36  216\n",
      "7  49  343\n",
      "-  --  ---\n",
      "-  --  ---\n",
      "1   1    1\n",
      "2   4    8\n",
      "3   9   27\n",
      "4  16   64\n",
      "5  25  125\n",
      "6  36  216\n",
      "7  49  343\n",
      "8  64  512\n",
      "-  --  ---\n",
      "-  --  ---\n",
      "1   1    1\n",
      "2   4    8\n",
      "3   9   27\n",
      "4  16   64\n",
      "5  25  125\n",
      "6  36  216\n",
      "7  49  343\n",
      "8  64  512\n",
      "9  81  729\n",
      "-  --  ---\n",
      "--  ---  ----\n",
      " 1    1     1\n",
      " 2    4     8\n",
      " 3    9    27\n",
      " 4   16    64\n",
      " 5   25   125\n",
      " 6   36   216\n",
      " 7   49   343\n",
      " 8   64   512\n",
      " 9   81   729\n",
      "10  100  1000\n",
      "--  ---  ----\n",
      "--  ---  ----\n",
      " 1    1     1\n",
      " 2    4     8\n",
      " 3    9    27\n",
      " 4   16    64\n",
      " 5   25   125\n",
      " 6   36   216\n",
      " 7   49   343\n",
      " 8   64   512\n",
      " 9   81   729\n",
      "10  100  1000\n",
      "11  121  1331\n",
      "--  ---  ----\n",
      "--  ---  ----\n",
      " 1    1     1\n",
      " 2    4     8\n",
      " 3    9    27\n",
      " 4   16    64\n",
      " 5   25   125\n",
      " 6   36   216\n",
      " 7   49   343\n",
      " 8   64   512\n",
      " 9   81   729\n",
      "10  100  1000\n",
      "11  121  1331\n",
      "12  144  1728\n",
      "--  ---  ----\n",
      "--  ---  ----\n",
      " 1    1     1\n",
      " 2    4     8\n",
      " 3    9    27\n",
      " 4   16    64\n",
      " 5   25   125\n",
      " 6   36   216\n",
      " 7   49   343\n",
      " 8   64   512\n",
      " 9   81   729\n",
      "10  100  1000\n",
      "11  121  1331\n",
      "12  144  1728\n",
      "13  169  2197\n",
      "--  ---  ----\n",
      "--  ---  ----\n",
      " 1    1     1\n",
      " 2    4     8\n",
      " 3    9    27\n",
      " 4   16    64\n",
      " 5   25   125\n",
      " 6   36   216\n",
      " 7   49   343\n",
      " 8   64   512\n",
      " 9   81   729\n",
      "10  100  1000\n",
      "11  121  1331\n",
      "12  144  1728\n",
      "13  169  2197\n",
      "14  196  2744\n",
      "--  ---  ----\n",
      "--  ---  ----\n",
      " 1    1     1\n",
      " 2    4     8\n",
      " 3    9    27\n",
      " 4   16    64\n",
      " 5   25   125\n",
      " 6   36   216\n",
      " 7   49   343\n",
      " 8   64   512\n",
      " 9   81   729\n",
      "10  100  1000\n",
      "11  121  1331\n",
      "12  144  1728\n",
      "13  169  2197\n",
      "14  196  2744\n",
      "15  225  3375\n",
      "--  ---  ----\n",
      "--  ---  ----\n",
      " 1    1     1\n",
      " 2    4     8\n",
      " 3    9    27\n",
      " 4   16    64\n",
      " 5   25   125\n",
      " 6   36   216\n",
      " 7   49   343\n",
      " 8   64   512\n",
      " 9   81   729\n",
      "10  100  1000\n",
      "11  121  1331\n",
      "12  144  1728\n",
      "13  169  2197\n",
      "14  196  2744\n",
      "15  225  3375\n",
      "16  256  4096\n",
      "--  ---  ----\n",
      "--  ---  ----\n",
      " 1    1     1\n",
      " 2    4     8\n",
      " 3    9    27\n",
      " 4   16    64\n",
      " 5   25   125\n",
      " 6   36   216\n",
      " 7   49   343\n",
      " 8   64   512\n",
      " 9   81   729\n",
      "10  100  1000\n",
      "11  121  1331\n",
      "12  144  1728\n",
      "13  169  2197\n",
      "14  196  2744\n",
      "15  225  3375\n",
      "16  256  4096\n",
      "17  289  4913\n",
      "--  ---  ----\n"
     ]
    }
   ],
   "source": [
    "# Format with tabulate\n",
    "#pip install tabulate\n",
    "from tabulate import tabulate\n",
    "\n",
    "user_num = input('What number would you like to go up to?')\n",
    "n = int(user_num)\n",
    "con = str(input('Would you like to continue? (y or n):'))\n",
    "i = 1\n",
    "table = [] #['Number', 'Squared', 'Cubed']\n",
    "if con.lower() == 'y':\n",
    "    print('Here is your table:')\n",
    "    while i <= n:\n",
    "        table.append([i, i **2, i ** 3])\n",
    "        print(tabulate(table))\n",
    "        i +=1"
   ]
  },
  {
   "cell_type": "markdown",
   "id": "6046561e",
   "metadata": {},
   "source": [
    "## 5. Convert given number grades to letter grades\n",
    "- Prompt the user for a numerical grade from 0 to 100.\n",
    "- Display the corresponding letter grade.\n",
    "- Prompt the user to continue.\n",
    "- Assume that the user will enter valid integers for the grades.\n",
    "- The application should only continue if the user agrees to.\n",
    "- Grade Ranges:\n",
    "    - A : 100 - 88\n",
    "    - B : 87 - 80\n",
    "    - C : 79 - 67\n",
    "    - D : 66 - 60\n",
    "    - F : 59 - 0\n"
   ]
  },
  {
   "cell_type": "code",
   "execution_count": null,
   "id": "4d41a0ee",
   "metadata": {},
   "outputs": [],
   "source": [
    "#num_grade = input('Enter a numerical grade from 0 to 100: ')\n",
    "#ng = int(num_grade)\n",
    "\n",
    "con = 'y'\n",
    "while con == 'y':\n",
    "    num_grade = input('Enter a numerical grade from 0 to 100: ')\n",
    "    ng = int(num_grade)\n",
    "    if ng in range(88,101):\n",
    "        print('A')\n",
    "    elif ng in range(87,81):\n",
    "        print('B')\n",
    "    elif ng in range(67, 80):\n",
    "        print('C')\n",
    "    elif ng in range(60,67):\n",
    "        print('D')\n",
    "    else:\n",
    "        print('F')\n",
    "    con = input('Would you like to continue (y or n)?:\"')"
   ]
  },
  {
   "cell_type": "code",
   "execution_count": null,
   "id": "80987027",
   "metadata": {},
   "outputs": [
    {
     "name": "stdout",
     "output_type": "stream",
     "text": [
      "Please enter the numberic grade: 65\n",
      "D\n",
      "Do you want to continue: (y or n)y\n",
      "D\n"
     ]
    }
   ],
   "source": [
    "num_grade = input('Please enter the numberic grade: ')\n",
    "ng = int(num_grade)\n",
    "con = 'y'\n",
    "\n",
    "while con.lower() == 'y':\n",
    "    if ng in range(88,101):\n",
    "        print('A')\n",
    "    elif ng in range(87,81):\n",
    "        print('B')\n",
    "    elif ng in range(67, 80):\n",
    "        print('C')\n",
    "    elif ng in range(60,67):\n",
    "        print('D')\n",
    "    else:\n",
    "        print('F')\n",
    "        \n",
    "    con = input('Do you want to continue: (y or n)')\n",
    "    if con.lower() != 'y':\n",
    "        break\n",
    "        \n",
    "# Can use continuous elifs with >= next grade threshold, since it evaluates in order"
   ]
  },
  {
   "cell_type": "markdown",
   "id": "532db4ed",
   "metadata": {},
   "source": [
    "## 6. \n",
    "- Create a list of dictionaries where each dictionary represents a book that you have read.\n",
    "- Each dictionary in the list should have the keys \n",
    "    - title\n",
    "    - author\n",
    "    - genre.\n",
    "- Loop through the list and print out information about each book."
   ]
  },
  {
   "cell_type": "code",
   "execution_count": null,
   "id": "ea30a9c7",
   "metadata": {},
   "outputs": [],
   "source": [
    "my_books = [\n",
    "    {\n",
    "        'title': 'Beautiful Evidence',\n",
    "        'author': 'Tufte',\n",
    "        'genre': 'Visualization'\n",
    "    },\n",
    "    {\n",
    "        'title': 'Visual Explanations',\n",
    "        'author': 'Tufte',\n",
    "        'genre': 'Visualization'\n",
    "    },\n",
    "    {\n",
    "        'title': 'Envisioning Information',\n",
    "        'author': 'Tufte',\n",
    "        'genre': 'Visualization'\n",
    "    },\n",
    "    {\n",
    "        'title': 'The Visual Display of Quantitative Information',\n",
    "        'author': 'Tufte',\n",
    "        'genre': 'Visualization'\n",
    "    },\n",
    "    {\n",
    "        'title': 'Naked Statistics',\n",
    "        'author': 'Wheelan',\n",
    "        'genre': 'Background'\n",
    "    },\n",
    "    {\n",
    "        'title': 'Weapons of Math Destruction',\n",
    "        'author': \"O'Neill\",\n",
    "        'genre': 'Applications'\n",
    "    },\n",
    "    {\n",
    "        'title': 'Data Science from Scratch',\n",
    "        'author': 'Grus',\n",
    "        'genre': 'How-to'\n",
    "    },\n",
    "    {\n",
    "        'title': 'Python for Data Science for Dummies',\n",
    "        'author': 'Mueller',\n",
    "        'genre': 'How-to'\n",
    "    },\n",
    "    {\n",
    "        'title': 'Mac OS for Dummies',\n",
    "        'author': 'Levitus',\n",
    "        'genre': 'How-to'\n",
    "    },\n",
    "    {\n",
    "        'title': 'How Charts Lie',\n",
    "        'author': 'Cairo',\n",
    "        'genre': 'Background'\n",
    "    },\n",
    "    {\n",
    "        'title': 'Practical Statistics for the Biological Sciences',\n",
    "        'author': 'Ashcroft',\n",
    "        'genre': 'Reference'\n",
    "    },\n",
    "    {\n",
    "        'title': 'Noise: A Flaw in Human Judgement',\n",
    "        'author': 'Kahneman',\n",
    "        'genre': 'Background'\n",
    "    },\n",
    "    {\n",
    "        'title': 'The Drunkards Walk: How Randomness Rules Our Lives',\n",
    "        'author': 'Mlodinow',\n",
    "        'genre': 'Background'\n",
    "    },\n",
    "]\n",
    "\n",
    "\n",
    "i = 0\n",
    "for book in my_books:\n",
    "    while i < len(my_books):\n",
    "        print(my_books[i])\n",
    "        i += 1\n",
    "    "
   ]
  },
  {
   "cell_type": "markdown",
   "id": "bdd4103a",
   "metadata": {},
   "source": [
    "## b. Prompt the user to enter a genre, then loop through your books list and print out the titles of all the books in that genre."
   ]
  },
  {
   "cell_type": "code",
   "execution_count": null,
   "id": "29ac1559",
   "metadata": {},
   "outputs": [],
   "source": [
    "print('Here are the current genres: ')\n",
    "i = 0\n",
    "current_genres = []\n",
    "for book in my_books:\n",
    "    while i < len(my_books):\n",
    "        current_genres.append(my_books[i]['genre'])\n",
    "        i += 1\n",
    "print(set(current_genres))\n",
    "\n",
    "user_genre = input('Enter an exact genre name to search for titles:')\n",
    "\n",
    "i = 0\n",
    "user_titles = []\n",
    "for book in my_books:\n",
    "    while i < len(my_books):\n",
    "        if my_books[i]['genre'] == user_genre:\n",
    "            user_titles.append(my_books[i]['title'])\n",
    "        i +=1\n",
    "print('Here is a list of', user_genre, 'books:')\n",
    "print(user_titles)"
   ]
  },
  {
   "cell_type": "code",
   "execution_count": null,
   "id": "480315e5",
   "metadata": {},
   "outputs": [],
   "source": []
  }
 ],
 "metadata": {
  "kernelspec": {
   "display_name": "Python 3",
   "language": "python",
   "name": "python3"
  }
 },
 "nbformat": 4,
 "nbformat_minor": 5
}
