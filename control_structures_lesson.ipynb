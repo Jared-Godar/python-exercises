{
 "cells": [
  {
   "cell_type": "markdown",
   "id": "fc12d2b1",
   "metadata": {},
   "source": [
    "# Conditionals\n",
    "\n",
    "### If this then that\n",
    "\n",
    "---"
   ]
  },
  {
   "cell_type": "code",
   "execution_count": 2,
   "id": "232f8ada",
   "metadata": {},
   "outputs": [
    {
     "name": "stdout",
     "output_type": "stream",
     "text": [
      "The number x is even\n"
     ]
    }
   ],
   "source": [
    "# is a number even or odd\n",
    "\n",
    "x = 4\n",
    "r = x % 2\n",
    "\n",
    "if r == 0:\n",
    "    print('The number x is even')\n",
    "    "
   ]
  },
  {
   "cell_type": "markdown",
   "id": "93452176",
   "metadata": {},
   "source": [
    "## If this then that, otherwise"
   ]
  },
  {
   "cell_type": "code",
   "execution_count": 4,
   "id": "4f4d5139",
   "metadata": {},
   "outputs": [
    {
     "name": "stdout",
     "output_type": "stream",
     "text": [
      "The number x is odd\n"
     ]
    }
   ],
   "source": [
    "# is a number even or odd\n",
    "\n",
    "x = 5\n",
    "r = x % 2\n",
    "\n",
    "if r == 0:\n",
    "    print('The number x is even')\n",
    "if r == 1:\n",
    "    print('The number x is odd')   "
   ]
  },
  {
   "cell_type": "code",
   "execution_count": 6,
   "id": "e3412732",
   "metadata": {},
   "outputs": [
    {
     "name": "stdout",
     "output_type": "stream",
     "text": [
      "The number x is even\n"
     ]
    }
   ],
   "source": [
    "# is a number even or odd\n",
    "# better way\n",
    "x = 4\n",
    "r = x % 2\n",
    "\n",
    "if r == 0:\n",
    "    print('The number x is even')\n",
    "else:\n",
    "    print('The number x is odd')   "
   ]
  },
  {
   "cell_type": "code",
   "execution_count": 8,
   "id": "5402000f",
   "metadata": {},
   "outputs": [
    {
     "name": "stdout",
     "output_type": "stream",
     "text": [
      "The number x is odd\n"
     ]
    }
   ],
   "source": [
    "# is a number even or odd\n",
    "# better way\n",
    "x = 7\n",
    "\n",
    "r = x % 2\n",
    "\n",
    "if r == 0:\n",
    "    print('The number x is even')\n",
    "    if x > 5:\n",
    "        print('the number is greater than 5')\n",
    "    else:\n",
    "        print('the number is less than or equal to 5')\n",
    "else:\n",
    "    print('The number x is odd')   "
   ]
  },
  {
   "cell_type": "markdown",
   "id": "6b2dba30",
   "metadata": {},
   "source": [
    "- Generally try to avoid writing loops in loops in loops\n",
    "- More \"flat\" code better"
   ]
  },
  {
   "cell_type": "code",
   "execution_count": 11,
   "id": "89e4a4d8",
   "metadata": {},
   "outputs": [
    {
     "name": "stdout",
     "output_type": "stream",
     "text": [
      "TWO\n"
     ]
    }
   ],
   "source": [
    "#1- ONE\n",
    "#2 - TEO\n",
    "#3 - THREE\n",
    "# >4 - Hurray\n",
    "\n",
    "x = 2\n",
    "\n",
    "if x == 1:\n",
    "    print('ONE')\n",
    "elif x == 2:\n",
    "    print('TWO')\n",
    "elif x == 3:\n",
    "    print('THREE')\n",
    "else:\n",
    "    print('Hurray')"
   ]
  },
  {
   "cell_type": "markdown",
   "id": "5bd4bca4",
   "metadata": {},
   "source": [
    "# Loops\n",
    "\n",
    "- `for` running a block of code a certain number of times\n",
    "- `while` runs code until a condition is met"
   ]
  },
  {
   "cell_type": "code",
   "execution_count": 15,
   "id": "d236eda7",
   "metadata": {},
   "outputs": [
    {
     "name": "stdout",
     "output_type": "stream",
     "text": [
      "4, 6, 8, 10, 12, 18, "
     ]
    }
   ],
   "source": [
    "# Use for loop when iterating through a list, string, etc.\n",
    "\n",
    "l = [2, 3, 4, 5, 6, 9]\n",
    "\n",
    "for i in l:\n",
    "    print (i * 2, end = ', ')"
   ]
  },
  {
   "cell_type": "code",
   "execution_count": 17,
   "id": "cc7c5584",
   "metadata": {},
   "outputs": [
    {
     "name": "stdout",
     "output_type": "stream",
     "text": [
      "1 is odd\n",
      "2 is even\n",
      "3 is odd\n",
      "4 is even\n",
      "5 is odd\n",
      "6 is even\n",
      "7 is odd\n",
      "8 is even\n",
      "9 is odd\n",
      "10 is even\n"
     ]
    }
   ],
   "source": [
    "# Print whether number is odd or even\n",
    "\n",
    "for num in range(1,11):\n",
    "    if num % 2 == 0:\n",
    "        print(num, 'is even')\n",
    "    else:\n",
    "        print(num, 'is odd')"
   ]
  },
  {
   "cell_type": "code",
   "execution_count": 18,
   "id": "848f09ae",
   "metadata": {},
   "outputs": [
    {
     "name": "stdout",
     "output_type": "stream",
     "text": [
      "h\n",
      "o\n",
      "p\n",
      "p\n",
      "e\n",
      "r\n"
     ]
    }
   ],
   "source": [
    "# Loop on string\n",
    "\n",
    "s = 'hopper'\n",
    "\n",
    "for char in s:\n",
    "    print(char)"
   ]
  },
  {
   "cell_type": "code",
   "execution_count": 21,
   "id": "cdb2750b",
   "metadata": {},
   "outputs": [
    {
     "data": {
      "text/plain": [
       "[1, 4, 9, 16, 25, 36, 49, 64, 81]"
      ]
     },
     "execution_count": 21,
     "metadata": {},
     "output_type": "execute_result"
    }
   ],
   "source": [
    "# make a list with loop\n",
    "\n",
    "l = []\n",
    "for num in range(1,10):\n",
    "    l.append(num ** 2)\n",
    "l"
   ]
  },
  {
   "cell_type": "code",
   "execution_count": 24,
   "id": "6603192a",
   "metadata": {},
   "outputs": [
    {
     "data": {
      "text/plain": [
       "[1, 4, 9, 16, 25, 36, 49, 64, 81]"
      ]
     },
     "execution_count": 24,
     "metadata": {},
     "output_type": "execute_result"
    }
   ],
   "source": [
    "# List comprehension\n",
    "\n",
    "l = [num **2 for num in range(1,10)]\n",
    "l"
   ]
  },
  {
   "cell_type": "markdown",
   "id": "458437d6",
   "metadata": {},
   "source": [
    "## While\n",
    "\n",
    "- While loop will wxecute body until the condition evaluates false\n",
    "- Useful when unsure how long condition holds \n",
    "    - User inputed data"
   ]
  },
  {
   "cell_type": "code",
   "execution_count": 25,
   "id": "417fc51f",
   "metadata": {},
   "outputs": [
    {
     "name": "stdout",
     "output_type": "stream",
     "text": [
      "1\n",
      "2\n",
      "3\n",
      "4\n"
     ]
    }
   ],
   "source": [
    "# While something is true:\n",
    "#      do this\n",
    "\n",
    "i = 1\n",
    "\n",
    "while i < 5:\n",
    "    print(i)\n",
    "    i += 1"
   ]
  },
  {
   "cell_type": "code",
   "execution_count": 26,
   "id": "a8fa89d8",
   "metadata": {},
   "outputs": [
    {
     "name": "stdout",
     "output_type": "stream",
     "text": [
      "Password: asd\n",
      "Invalid password\n",
      "Password: oin\n",
      "Invalid password\n",
      "Password: pass1234\n",
      "You may proceed\n"
     ]
    }
   ],
   "source": [
    "password = 'pass1234'\n",
    "user_input = input('Password: ')\n",
    "\n",
    "while user_input != password:\n",
    "    print('Invalid password')\n",
    "    user_input = input('Password: ')\n",
    "print('You may proceed')"
   ]
  },
  {
   "cell_type": "markdown",
   "id": "59416202",
   "metadata": {},
   "source": [
    "## Break\n",
    "\n",
    "- `break` will stop executing a loop\n",
    "- Don't want to be stuck in a while loop forever"
   ]
  },
  {
   "cell_type": "code",
   "execution_count": 27,
   "id": "0668a255",
   "metadata": {},
   "outputs": [
    {
     "name": "stdout",
     "output_type": "stream",
     "text": [
      "1\n",
      "2\n",
      "3\n",
      "4\n",
      "5\n",
      "6\n",
      "7\n",
      "8\n",
      "9\n",
      "10\n",
      "11\n",
      "12\n",
      "13\n",
      "14\n",
      "15\n",
      "16\n",
      "17\n",
      "18\n",
      "19\n"
     ]
    }
   ],
   "source": [
    "i = 1\n",
    "\n",
    "while i < 1000:\n",
    "    print(i)\n",
    "    i += 1\n",
    "    if i  == 20:\n",
    "        break"
   ]
  },
  {
   "cell_type": "code",
   "execution_count": 3,
   "id": "86718ead",
   "metadata": {},
   "outputs": [
    {
     "name": "stdout",
     "output_type": "stream",
     "text": [
      "Candy\n",
      "Candy\n",
      "Candy\n",
      "Candy\n"
     ]
    }
   ],
   "source": [
    "user_input = 4\n",
    "available_candies = 5\n",
    "i = 1\n",
    "\n",
    "while i <= user_input:\n",
    "    print('Candy')\n",
    "    i += 1"
   ]
  },
  {
   "cell_type": "code",
   "execution_count": null,
   "id": "d7e0b914",
   "metadata": {},
   "outputs": [],
   "source": [
    "password = 'pass1234'\n",
    "user_input = input('Please enter your password: ')\n",
    "\n",
    "while True:\n",
    "    "
   ]
  },
  {
   "cell_type": "markdown",
   "id": "2a0ae780",
   "metadata": {},
   "source": [
    "## Continue\n",
    "\n",
    "- `continue` will skip to the next iteration of a loop"
   ]
  },
  {
   "cell_type": "code",
   "execution_count": 2,
   "id": "453b80a0",
   "metadata": {},
   "outputs": [
    {
     "name": "stdout",
     "output_type": "stream",
     "text": [
      "here is an odd number 1\n",
      "here is an odd number 3\n",
      "here is an odd number 5\n",
      "here is an odd number 7\n"
     ]
    }
   ],
   "source": [
    "#print only odd numbers:\n",
    "\n",
    "for i in range(1,9):\n",
    "    if i % 2 == 0:\n",
    "        continue\n",
    "    else:\n",
    "        print('here is an odd number', i)"
   ]
  }
 ],
 "metadata": {
  "kernelspec": {
   "display_name": "Python 3",
   "language": "python",
   "name": "python3"
  },
  "language_info": {
   "codemirror_mode": {
    "name": "ipython",
    "version": 3
   },
   "file_extension": ".py",
   "mimetype": "text/x-python",
   "name": "python",
   "nbconvert_exporter": "python",
   "pygments_lexer": "ipython3",
   "version": "3.8.8"
  }
 },
 "nbformat": 4,
 "nbformat_minor": 5
}
