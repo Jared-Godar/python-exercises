{
 "cells": [
  {
   "cell_type": "markdown",
   "id": "1f3ca559",
   "metadata": {},
   "source": [
    "# Functions\n",
    "- Reusable blocks of code\n",
    "    - Used to *name* blocks of code\n",
    "- *powerful* tool for creating abstractions\n",
    "- Variables are *nouns* in our code, and functions are *verbs*\n",
    "\n",
    "## Built-in Functions\n",
    "- `len`, `type`, `print`, `abs`, `str`, etc.\n",
    "- Import libraries of others' functions\n",
    "\n",
    "## Defining Our Own Functions\n",
    "1. Define the function"
   ]
  },
  {
   "cell_type": "code",
   "execution_count": 1,
   "id": "ff645429",
   "metadata": {},
   "outputs": [],
   "source": [
    "def add_one(x):\n",
    "    \"\"\"This function adds 1 to any input. String inputs produce an error\"\"\" #DOC STRING: Triple quoted string that tells what function does\n",
    "    return x + 1"
   ]
  },
  {
   "cell_type": "markdown",
   "id": "cb589467",
   "metadata": {},
   "source": [
    "- Body of the function is indented. \n",
    "- Must include a return for function to produce a value\n",
    "- Defining a function does not run or evaluate it\n",
    "    - Calling a function\n",
    "    - Run\n",
    "    - Evaluate\n",
    "    - Invoke\n",
    "    - "
   ]
  },
  {
   "cell_type": "markdown",
   "id": "565e91b8",
   "metadata": {},
   "source": [
    "2. Call the function\n",
    "\n",
    "`add_one(5)` returns `6` `add_one(add_one(1))` returns `3`"
   ]
  },
  {
   "cell_type": "markdown",
   "id": "12c53463",
   "metadata": {},
   "source": [
    "### Takeaways:\n",
    "- `functions(run(from(inside(out))))`\n",
    "- `methods. run().from().left().to().right()`\n",
    "- Methods are functions defined then called firectly from objects, like lists or strings\n",
    "- Ability to wrute and use functions defines capability to customize solutions\n",
    "- Recomment *always* returning values from functions\n",
    "    - Without `rreturn` functions return "
   ]
  },
  {
   "cell_type": "code",
   "execution_count": 2,
   "id": "d95699ef",
   "metadata": {},
   "outputs": [
    {
     "data": {
      "text/plain": [
       "5"
      ]
     },
     "execution_count": 2,
     "metadata": {},
     "output_type": "execute_result"
    }
   ],
   "source": [
    "x = 5\n",
    "x"
   ]
  },
  {
   "cell_type": "code",
   "execution_count": 3,
   "id": "956b1c9a",
   "metadata": {},
   "outputs": [
    {
     "data": {
      "text/plain": [
       "11"
      ]
     },
     "execution_count": 3,
     "metadata": {},
     "output_type": "execute_result"
    }
   ],
   "source": [
    "add_one(10)"
   ]
  },
  {
   "cell_type": "code",
   "execution_count": 4,
   "id": "63de1a9d",
   "metadata": {},
   "outputs": [
    {
     "data": {
      "text/plain": [
       "5"
      ]
     },
     "execution_count": 4,
     "metadata": {},
     "output_type": "execute_result"
    }
   ],
   "source": [
    "x"
   ]
  },
  {
   "cell_type": "code",
   "execution_count": 5,
   "id": "9c1d3000",
   "metadata": {},
   "outputs": [
    {
     "ename": "NameError",
     "evalue": "name 'result' is not defined",
     "output_type": "error",
     "traceback": [
      "\u001b[0;31m---------------------------------------------------------------------------\u001b[0m",
      "\u001b[0;31mNameError\u001b[0m                                 Traceback (most recent call last)",
      "\u001b[0;32m<ipython-input-5-0ac921c19f1a>\u001b[0m in \u001b[0;36m<module>\u001b[0;34m\u001b[0m\n\u001b[0;32m----> 1\u001b[0;31m \u001b[0mresult\u001b[0m\u001b[0;34m\u001b[0m\u001b[0;34m\u001b[0m\u001b[0m\n\u001b[0m",
      "\u001b[0;31mNameError\u001b[0m: name 'result' is not defined"
     ]
    }
   ],
   "source": [
    "result"
   ]
  },
  {
   "cell_type": "code",
   "execution_count": null,
   "id": "12544ba2",
   "metadata": {},
   "outputs": [],
   "source": [
    "def global_increment():\n",
    "    global x\n",
    "    x = x + 1\n",
    "    print(x)"
   ]
  },
  {
   "cell_type": "markdown",
   "id": "f4c2788c",
   "metadata": {},
   "source": [
    "### What's the big deal with return"
   ]
  },
  {
   "cell_type": "code",
   "execution_count": 6,
   "id": "c0544c61",
   "metadata": {},
   "outputs": [],
   "source": [
    "def increment(x):\n",
    "    result = x + 1\n",
    "    print(result)"
   ]
  },
  {
   "cell_type": "code",
   "execution_count": 7,
   "id": "6e0ecc81",
   "metadata": {},
   "outputs": [
    {
     "name": "stdout",
     "output_type": "stream",
     "text": [
      "12\n"
     ]
    }
   ],
   "source": [
    "increment(11)"
   ]
  },
  {
   "cell_type": "code",
   "execution_count": 8,
   "id": "84add555",
   "metadata": {},
   "outputs": [
    {
     "name": "stdout",
     "output_type": "stream",
     "text": [
      "2\n"
     ]
    },
    {
     "ename": "TypeError",
     "evalue": "unsupported operand type(s) for +: 'NoneType' and 'int'",
     "output_type": "error",
     "traceback": [
      "\u001b[0;31m---------------------------------------------------------------------------\u001b[0m",
      "\u001b[0;31mTypeError\u001b[0m                                 Traceback (most recent call last)",
      "\u001b[0;32m<ipython-input-8-6b6673d04003>\u001b[0m in \u001b[0;36m<module>\u001b[0;34m\u001b[0m\n\u001b[0;32m----> 1\u001b[0;31m \u001b[0mincrement\u001b[0m\u001b[0;34m(\u001b[0m\u001b[0mincrement\u001b[0m\u001b[0;34m(\u001b[0m\u001b[0;36m1\u001b[0m\u001b[0;34m)\u001b[0m\u001b[0;34m)\u001b[0m\u001b[0;34m\u001b[0m\u001b[0;34m\u001b[0m\u001b[0m\n\u001b[0m",
      "\u001b[0;32m<ipython-input-6-83d1cadb635e>\u001b[0m in \u001b[0;36mincrement\u001b[0;34m(x)\u001b[0m\n\u001b[1;32m      1\u001b[0m \u001b[0;32mdef\u001b[0m \u001b[0mincrement\u001b[0m\u001b[0;34m(\u001b[0m\u001b[0mx\u001b[0m\u001b[0;34m)\u001b[0m\u001b[0;34m:\u001b[0m\u001b[0;34m\u001b[0m\u001b[0;34m\u001b[0m\u001b[0m\n\u001b[0;32m----> 2\u001b[0;31m     \u001b[0mresult\u001b[0m \u001b[0;34m=\u001b[0m \u001b[0mx\u001b[0m \u001b[0;34m+\u001b[0m \u001b[0;36m1\u001b[0m\u001b[0;34m\u001b[0m\u001b[0;34m\u001b[0m\u001b[0m\n\u001b[0m\u001b[1;32m      3\u001b[0m     \u001b[0mprint\u001b[0m\u001b[0;34m(\u001b[0m\u001b[0mresult\u001b[0m\u001b[0;34m)\u001b[0m\u001b[0;34m\u001b[0m\u001b[0;34m\u001b[0m\u001b[0m\n",
      "\u001b[0;31mTypeError\u001b[0m: unsupported operand type(s) for +: 'NoneType' and 'int'"
     ]
    }
   ],
   "source": [
    "increment(increment(1))"
   ]
  },
  {
   "cell_type": "markdown",
   "id": "10c783ef",
   "metadata": {},
   "source": [
    "## Lambdas\n",
    "- A lambda is an anonymous function\n",
    "- Function without a name\n",
    "- Popular in math\n",
    "- Helpful if don't need to reuse a function (or have it named\n",
    "- Still just functions though\n",
    "- Lambdas in python are the function body it self\n",
    "- Lambdas in python are one-liners\n",
    "- Return is automatic - whatever is on the right-hand side of colon\n",
    "- \n",
    "    "
   ]
  },
  {
   "cell_type": "code",
   "execution_count": 10,
   "id": "0cfb5795",
   "metadata": {},
   "outputs": [],
   "source": [
    "add_two = lambda x: x +2"
   ]
  },
  {
   "cell_type": "code",
   "execution_count": 11,
   "id": "1eb6cf49",
   "metadata": {},
   "outputs": [
    {
     "data": {
      "text/plain": [
       "5"
      ]
     },
     "execution_count": 11,
     "metadata": {},
     "output_type": "execute_result"
    }
   ],
   "source": [
    "add_two(3)"
   ]
  },
  {
   "cell_type": "code",
   "execution_count": 12,
   "id": "a46ec45d",
   "metadata": {},
   "outputs": [
    {
     "data": {
      "text/plain": [
       "<function __main__.<lambda>(x)>"
      ]
     },
     "execution_count": 12,
     "metadata": {},
     "output_type": "execute_result"
    }
   ],
   "source": [
    "add_two\n"
   ]
  },
  {
   "cell_type": "markdown",
   "id": "2eac40c3",
   "metadata": {},
   "source": [
    "- function in the main space\n",
    "- Utility?\n",
    "    - "
   ]
  },
  {
   "cell_type": "code",
   "execution_count": 13,
   "id": "1a847af7",
   "metadata": {},
   "outputs": [],
   "source": [
    "boats = [\n",
    "    {\n",
    "        \"type\": \"tugboat\",\n",
    "        \"price\": 100_000\n",
    "    },\n",
    "    {\n",
    "        \"type\": \"dreadnaught\",\n",
    "        \"price\": 500_000\n",
    "    }, \n",
    "    {\n",
    "        \"type\": \"paper boat\",\n",
    "        \"price\": 0.005\n",
    "    }\n",
    "]"
   ]
  },
  {
   "cell_type": "code",
   "execution_count": 14,
   "id": "5fbce041",
   "metadata": {},
   "outputs": [
    {
     "data": {
      "text/plain": [
       "[{'type': 'paper boat', 'price': 0.005},\n",
       " {'type': 'tugboat', 'price': 100000},\n",
       " {'type': 'dreadnaught', 'price': 500000}]"
      ]
     },
     "execution_count": 14,
     "metadata": {},
     "output_type": "execute_result"
    }
   ],
   "source": [
    "#works with min, max\n",
    "sorted(boats, key = lambda x: x[\"price\"])"
   ]
  },
  {
   "cell_type": "code",
   "execution_count": 15,
   "id": "c24dbb64",
   "metadata": {},
   "outputs": [
    {
     "data": {
      "text/plain": [
       "{'type': 'dreadnaught', 'price': 500000}"
      ]
     },
     "execution_count": 15,
     "metadata": {},
     "output_type": "execute_result"
    }
   ],
   "source": [
    "min(boats, key = lambda x:x[\"type\"])"
   ]
  },
  {
   "cell_type": "code",
   "execution_count": 17,
   "id": "b0eaf0ce",
   "metadata": {},
   "outputs": [],
   "source": [
    "def sort_by_price(x):\n",
    "    return x[\"price\"]"
   ]
  },
  {
   "cell_type": "code",
   "execution_count": 18,
   "id": "4b38b81e",
   "metadata": {},
   "outputs": [
    {
     "data": {
      "text/plain": [
       "{'type': 'dreadnaught', 'price': 500000}"
      ]
     },
     "execution_count": 18,
     "metadata": {},
     "output_type": "execute_result"
    }
   ],
   "source": [
    "max(boats, key=sort_by_price)"
   ]
  },
  {
   "cell_type": "markdown",
   "id": "c8569be5",
   "metadata": {},
   "source": []
  },
  {
   "cell_type": "markdown",
   "id": "4754e1ff",
   "metadata": {},
   "source": []
  }
 ],
 "metadata": {
  "kernelspec": {
   "display_name": "Python 3",
   "language": "python",
   "name": "python3"
  },
  "language_info": {
   "codemirror_mode": {
    "name": "ipython",
    "version": 3
   },
   "file_extension": ".py",
   "mimetype": "text/x-python",
   "name": "python",
   "nbconvert_exporter": "python",
   "pygments_lexer": "ipython3",
   "version": "3.8.8"
  }
 },
 "nbformat": 4,
 "nbformat_minor": 5
}
