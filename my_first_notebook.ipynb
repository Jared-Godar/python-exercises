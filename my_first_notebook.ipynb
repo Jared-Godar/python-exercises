{
 "cells": [
  {
   "cell_type": "markdown",
   "id": "4010e17f",
   "metadata": {},
   "source": [
    "# My First Jupyter Notebook\n",
    "\n",
    "## What?\n",
    "\n",
    "Notebooks are composed of cells. Cells can be either code or markdown. Can write **great** documentation while coding\n",
    "\n",
    "## So What?\n",
    "\n",
    "1. Python vizualizations render in place in our notebooks\n",
    "2. Notebooks allow us to write directions /documentation in markdown/html\n",
    "3. Code runs through `ipython`, which means we have cool tools\n",
    "\n",
    "## Now what?\n",
    "- Change directories to ptoject directory\n",
    "- Run `jupyter notebook` and the service starts\n",
    "- You'll need a couple of terminal tabs open\n",
    "- Now, you can run Python code in a notebook\n",
    "\n",
    "Kernel - restart and clear. Restart and run all. First step of troubleshooting notebook."
   ]
  },
  {
   "cell_type": "code",
   "execution_count": 2,
   "id": "b631baf5",
   "metadata": {},
   "outputs": [
    {
     "name": "stdout",
     "output_type": "stream",
     "text": [
      "Hello, World!\n"
     ]
    }
   ],
   "source": [
    "print(\"Hello, World!\")"
   ]
  },
  {
   "cell_type": "code",
   "execution_count": 3,
   "id": "f9571829",
   "metadata": {},
   "outputs": [
    {
     "name": "stdout",
     "output_type": "stream",
     "text": [
      "What's up, Doc?\n"
     ]
    }
   ],
   "source": [
    "greeting = \"What's up, Doc?\"\n",
    "print(greeting)"
   ]
  },
  {
   "cell_type": "markdown",
   "id": "74706fd1",
   "metadata": {},
   "source": [
    "This is a **markdown** cell where we can *format* ~~things~~ and take notes or comments or whatever"
   ]
  },
  {
   "cell_type": "markdown",
   "id": "bad97e7f",
   "metadata": {},
   "source": [
    "Jupyter notebook is a webpage on your local network. Executing code sends it to ipython, if you can do something in ipython you can do it in jupyter notebook"
   ]
  },
  {
   "cell_type": "code",
   "execution_count": 4,
   "id": "39272692",
   "metadata": {},
   "outputs": [
    {
     "name": "stdout",
     "output_type": "stream",
     "text": [
      "README.md                         python_introduction_exercises.py\r\n",
      "my_first_notebook.ipynb\r\n"
     ]
    }
   ],
   "source": [
    "ls"
   ]
  },
  {
   "cell_type": "markdown",
   "id": "41041bb5",
   "metadata": {},
   "source": [
    "Can run Julia or R or other things from here. Are cells isolated? No. The scope of all the variables is global - works in all cells."
   ]
  }
 ],
 "metadata": {
  "kernelspec": {
   "display_name": "Python 3",
   "language": "python",
   "name": "python3"
  },
  "language_info": {
   "codemirror_mode": {
    "name": "ipython",
    "version": 3
   },
   "file_extension": ".py",
   "mimetype": "text/x-python",
   "name": "python",
   "nbconvert_exporter": "python",
   "pygments_lexer": "ipython3",
   "version": "3.8.8"
  }
 },
 "nbformat": 4,
 "nbformat_minor": 5
}
