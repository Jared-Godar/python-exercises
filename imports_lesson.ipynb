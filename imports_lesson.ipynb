{
 "cells": [
  {
   "cell_type": "markdown",
   "id": "c7eb0769",
   "metadata": {},
   "source": [
    "# Imports Lesson\n",
    "\n",
    "We **import** libraties or modules into our current python session in order to use the functions, methods, or variables within it. We can also directly import specific functions, methods, or variables, as opposed to the entire module\n",
    "\n",
    "As you build good functions - store them in a personal library to call and use at any time in any function"
   ]
  },
  {
   "cell_type": "markdown",
   "id": "1848e851",
   "metadata": {},
   "source": [
    "## Goals\n",
    "\n",
    "1. Understand the difference between **Modules**, **Libraries**, and **Packages**\n",
    "2. Install a new package, taking adequate safety measures.\n",
    "3. Import a base python or pypi module, with and without an alias, and run a function that exists in that module.\n",
    "4. \n",
    "5. \n",
    "6. \n"
   ]
  },
  {
   "cell_type": "markdown",
   "id": "2c9b191f",
   "metadata": {},
   "source": [
    "### Terminology\n",
    "\n",
    "- A **Module** is a python file with a `.py` extension\n",
    "- Contain functions and variables. Can exist in:\n",
    "    - The python statndard library\n",
    "    - Commonly developed packages\n",
    "    - Your working directory as a file you have created\n",
    "\n",
    "\n",
    "- A **Package** is a directory that contains modules\n",
    "     - It can also consisst of other packages or sub-packages\n",
    "     - Way to distribute one or more modules\n",
    "     - Install packages in order to be able to import modules or libraries for use\n",
    "     \n",
    "     \n",
    "- A **Library** is a collection of code, data, documentation, and configuration, usually built for specific tasks\n",
    "    - Can be very large in scope like `numpy` or `matplotlib`\n",
    "    - Others are smaller, like `requests`, for sending HTTP requests\n",
    " \n",
    " \n",
    "- A **Python Package Index**, [PyPi](https://pypi.org)\n",
    "    - Index of vetted packages\n",
    "    - Judged by community to do job well\n",
    "    - Unlikely to contain any malicious code\n",
    "\n",
    "\n",
    "- Anaconda's **Conda** is a package manager\n",
    "    - Helps you find and install third party packages"
   ]
  },
  {
   "cell_type": "markdown",
   "id": "c59df0b2",
   "metadata": {},
   "source": [
    "## Import Sources\n",
    "\n",
    "1. [Python Standard Library](https://docs.python.org/3/library/)\n",
    "    - Comes with language, no special installation is needed in order to use it\n",
    "2. 3rd Party Packages\n",
    "    - `pip` is the package manager that comes with python\n",
    "        - use `pip install` to install packages from tppu\n",
    "    - `conda` is an alternative package management too\n",
    "        - use `conda install` to install packages published through anaconda\n",
    "    - Research libraties before installing\n",
    "        - Go to project's github page\n",
    "        - Look over documentation\n",
    "        - See hoq active the community is\n",
    "        "
   ]
  },
  {
   "cell_type": "markdown",
   "id": "004a16b8",
   "metadata": {},
   "source": [
    "## Installing Packages\n",
    "\n",
    "- We can only import the libraries and modules of packages that have been installed\n",
    "\n",
    "- Run commands in the shell in our terminal (not in a python session)\n",
    "\n",
    ">`conda install somepackage`\n",
    "\n",
    ">`pip install somepacage`\n"
   ]
  },
  {
   "cell_type": "markdown",
   "id": "487732ac",
   "metadata": {},
   "source": [
    "## Importing\n",
    "\n",
    "- Can import entire module (or libraty) or just pieces of it\n",
    "- Can give **aliases** to anything we import\n",
    "\n",
    "\n",
    "- To import an entire module:\n",
    "\n",
    ">`import somemodule`\n",
    "\n",
    "- Later\n",
    "\n",
    ">`somemodule.somefunction()`"
   ]
  },
  {
   "cell_type": "code",
   "execution_count": null,
   "id": "96ab7fe1",
   "metadata": {},
   "outputs": [],
   "source": [
    "import math\n",
    "\n",
    "y = math.sqrt(10)\n",
    "print(y)"
   ]
  },
  {
   "cell_type": "markdown",
   "id": "85007207",
   "metadata": {},
   "source": [
    "to import module as alias\n",
    ">`import some module as sm`\n",
    "\n",
    ">`sm.somefunction()`"
   ]
  },
  {
   "cell_type": "code",
   "execution_count": null,
   "id": "a2ced347",
   "metadata": {},
   "outputs": [],
   "source": [
    "import numpy as np"
   ]
  },
  {
   "cell_type": "code",
   "execution_count": null,
   "id": "7fea6f9b",
   "metadata": {},
   "outputs": [],
   "source": [
    "x = np.repeat(3, 5)"
   ]
  },
  {
   "cell_type": "code",
   "execution_count": null,
   "id": "7e82219e",
   "metadata": {},
   "outputs": [],
   "source": [
    "print(x)"
   ]
  },
  {
   "cell_type": "markdown",
   "id": "d9ffc3a6",
   "metadata": {},
   "source": [
    "- To import **specific parts** of a module:\n",
    "\n",
    ">`from somemodule import somefunction, anotherfunctio, etc\n",
    "\n",
    "- Later\n",
    "> `somefunction()` #Don't need library name first"
   ]
  },
  {
   "cell_type": "code",
   "execution_count": null,
   "id": "3652ca43",
   "metadata": {},
   "outputs": [],
   "source": [
    "from itertools import accumulate"
   ]
  },
  {
   "cell_type": "code",
   "execution_count": null,
   "id": "b5162e0a",
   "metadata": {},
   "outputs": [],
   "source": [
    "accumulate([1, 2, 3, 4, 5])"
   ]
  },
  {
   "cell_type": "code",
   "execution_count": null,
   "id": "eb187512",
   "metadata": {},
   "outputs": [],
   "source": [
    "list(accumulate([1, 2, 3, 4, 5]))"
   ]
  },
  {
   "cell_type": "markdown",
   "id": "b632f215",
   "metadata": {},
   "source": [
    "Can give aliases to the specific pieces we import"
   ]
  },
  {
   "cell_type": "markdown",
   "id": "ef21b63e",
   "metadata": {},
   "source": [
    "## Importing your own code:\n",
    "\n"
   ]
  },
  {
   "cell_type": "code",
   "execution_count": null,
   "id": "444808c8",
   "metadata": {},
   "outputs": [],
   "source": [
    "import sampule_module"
   ]
  },
  {
   "cell_type": "code",
   "execution_count": null,
   "id": "2c685f67",
   "metadata": {},
   "outputs": [],
   "source": [
    "num = sampule_module.add_two(2)"
   ]
  },
  {
   "cell_type": "code",
   "execution_count": null,
   "id": "136716c1",
   "metadata": {},
   "outputs": [],
   "source": [
    "num"
   ]
  },
  {
   "cell_type": "code",
   "execution_count": null,
   "id": "ae328dfd",
   "metadata": {},
   "outputs": [],
   "source": [
    "import sample_module as sm"
   ]
  },
  {
   "cell_type": "code",
   "execution_count": null,
   "id": "1c11ad84",
   "metadata": {},
   "outputs": [],
   "source": [
    "sm.sub_two(6)"
   ]
  },
  {
   "cell_type": "code",
   "execution_count": null,
   "id": "5ce03d07",
   "metadata": {},
   "outputs": [],
   "source": [
    "import sampule_module as sm\n"
   ]
  },
  {
   "cell_type": "code",
   "execution_count": null,
   "id": "6dde1dcc",
   "metadata": {},
   "outputs": [],
   "source": [
    "sm.sq_5(10)"
   ]
  },
  {
   "cell_type": "markdown",
   "id": "0a2b7010",
   "metadata": {},
   "source": [
    "Can put passwords in modules and import by alias - can use sensitive data without showing sensitive data in code on github"
   ]
  },
  {
   "cell_type": "code",
   "execution_count": 1,
   "id": "96b37d36",
   "metadata": {},
   "outputs": [],
   "source": [
    "import env"
   ]
  },
  {
   "cell_type": "code",
   "execution_count": 3,
   "id": "58dd37d1",
   "metadata": {},
   "outputs": [
    {
     "data": {
      "text/plain": [
       "'NotCodeUp'"
      ]
     },
     "execution_count": 3,
     "metadata": {},
     "output_type": "execute_result"
    }
   ],
   "source": [
    "env.bootcamp_name"
   ]
  },
  {
   "cell_type": "code",
   "execution_count": 4,
   "id": "ecd5e877",
   "metadata": {},
   "outputs": [],
   "source": [
    "import sample_module as sm"
   ]
  },
  {
   "cell_type": "code",
   "execution_count": null,
   "id": "9491f4e4",
   "metadata": {},
   "outputs": [],
   "source": [
    "fr"
   ]
  }
 ],
 "metadata": {
  "kernelspec": {
   "display_name": "Python 3",
   "language": "python",
   "name": "python3"
  },
  "language_info": {
   "codemirror_mode": {
    "name": "ipython",
    "version": 3
   },
   "file_extension": ".py",
   "mimetype": "text/x-python",
   "name": "python",
   "nbconvert_exporter": "python",
   "pygments_lexer": "ipython3",
   "version": "3.8.8"
  }
 },
 "nbformat": 4,
 "nbformat_minor": 5
}
