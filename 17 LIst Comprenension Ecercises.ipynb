{
 "cells": [
  {
   "cell_type": "markdown",
   "id": "247671ea",
   "metadata": {},
   "source": [
    "# 17 list comprehension problems in python\n",
    "- Define initial lists\n"
   ]
  },
  {
   "cell_type": "code",
   "execution_count": 3,
   "id": "19098a10",
   "metadata": {},
   "outputs": [],
   "source": [
    "fruits = ['mango', 'kiwi', 'strawberry', 'guava', 'pineapple', 'mandarin orange']"
   ]
  },
  {
   "cell_type": "code",
   "execution_count": 4,
   "id": "539e4918",
   "metadata": {},
   "outputs": [],
   "source": [
    "numbers = [2, 3, 4, 5, 6, 7, 8, 9, 10, 11, 13, 17, 19, 23, 256, -8, -4, -2, 5, -9]"
   ]
  },
  {
   "cell_type": "markdown",
   "id": "66847161",
   "metadata": {},
   "source": [
    "---"
   ]
  },
  {
   "cell_type": "markdown",
   "id": "c6c9c342",
   "metadata": {},
   "source": [
    "## Example for loop solution to add 1 to each number in the list\n"
   ]
  },
  {
   "cell_type": "code",
   "execution_count": 5,
   "id": "adefc11d",
   "metadata": {},
   "outputs": [],
   "source": [
    "numbers_plus_one = []\n",
    "for number in numbers:\n",
    "    numbers_plus_one.append(number + 1)"
   ]
  },
  {
   "cell_type": "code",
   "execution_count": 6,
   "id": "d10e7b4e",
   "metadata": {},
   "outputs": [
    {
     "data": {
      "text/plain": [
       "[3, 4, 5, 6, 7, 8, 9, 10, 11, 12, 14, 18, 20, 24, 257, -7, -3, -1, 6, -8]"
      ]
     },
     "execution_count": 6,
     "metadata": {},
     "output_type": "execute_result"
    }
   ],
   "source": [
    "numbers_plus_one\n"
   ]
  },
  {
   "cell_type": "markdown",
   "id": "cba7ea95",
   "metadata": {},
   "source": [
    "## Example of using a list comprehension to create a list of the numbers plus one."
   ]
  },
  {
   "cell_type": "code",
   "execution_count": 7,
   "id": "2f3aba7e",
   "metadata": {},
   "outputs": [],
   "source": [
    "numbers_plus_one2 = [number + 1 for number in numbers]\n"
   ]
  },
  {
   "cell_type": "code",
   "execution_count": 8,
   "id": "8f54b312",
   "metadata": {},
   "outputs": [
    {
     "data": {
      "text/plain": [
       "[3, 4, 5, 6, 7, 8, 9, 10, 11, 12, 14, 18, 20, 24, 257, -7, -3, -1, 6, -8]"
      ]
     },
     "execution_count": 8,
     "metadata": {},
     "output_type": "execute_result"
    }
   ],
   "source": [
    "numbers_plus_one2"
   ]
  },
  {
   "cell_type": "markdown",
   "id": "20e4cb2c",
   "metadata": {},
   "source": [
    "## Example code that creates a list of all of the list of strings in fruits and uppercases every string"
   ]
  },
  {
   "cell_type": "code",
   "execution_count": 10,
   "id": "abe30a3c",
   "metadata": {},
   "outputs": [],
   "source": [
    "output = []\n",
    "for fruit in fruits:\n",
    "    output.append(fruit.upper())"
   ]
  },
  {
   "cell_type": "code",
   "execution_count": 12,
   "id": "631ed128",
   "metadata": {},
   "outputs": [
    {
     "data": {
      "text/plain": [
       "['MANGO', 'KIWI', 'STRAWBERRY', 'GUAVA', 'PINEAPPLE', 'MANDARIN ORANGE']"
      ]
     },
     "execution_count": 12,
     "metadata": {},
     "output_type": "execute_result"
    }
   ],
   "source": [
    "output"
   ]
  },
  {
   "cell_type": "markdown",
   "id": "073566e2",
   "metadata": {},
   "source": [
    "### Exercise 1 \n",
    "- Rewrite the above example code using list comprehension syntax. \n",
    "- Make a variable named `uppercased_fruits` to hold the output of the list comprehension. \n",
    "- Output should be ['MANGO', 'KIWI', etc...]"
   ]
  },
  {
   "cell_type": "code",
   "execution_count": 13,
   "id": "0216d851",
   "metadata": {},
   "outputs": [],
   "source": [
    "uppercased_fruits = []\n",
    "for fruit in fruits:\n",
    "    uppercased_fruits.append(fruit.upper())"
   ]
  },
  {
   "cell_type": "code",
   "execution_count": 14,
   "id": "f1d1281e",
   "metadata": {},
   "outputs": [
    {
     "data": {
      "text/plain": [
       "['MANGO', 'KIWI', 'STRAWBERRY', 'GUAVA', 'PINEAPPLE', 'MANDARIN ORANGE']"
      ]
     },
     "execution_count": 14,
     "metadata": {},
     "output_type": "execute_result"
    }
   ],
   "source": [
    "uppercased_fruits"
   ]
  },
  {
   "cell_type": "markdown",
   "id": "7c517446",
   "metadata": {},
   "source": [
    "## Exercise 2 \n",
    "- Create a variable named `capitalized_fruits` and use list comprehension syntax to produce output like ['Mango', 'Kiwi', 'Strawberry', etc...]"
   ]
  },
  {
   "cell_type": "code",
   "execution_count": 15,
   "id": "01e336e2",
   "metadata": {},
   "outputs": [],
   "source": [
    "capitalized_fruits = []\n",
    "for fruit in fruits:\n",
    "    capitalized_fruits.append(fruit.title())"
   ]
  },
  {
   "cell_type": "code",
   "execution_count": 16,
   "id": "22a979f0",
   "metadata": {},
   "outputs": [
    {
     "data": {
      "text/plain": [
       "['Mango', 'Kiwi', 'Strawberry', 'Guava', 'Pineapple', 'Mandarin Orange']"
      ]
     },
     "execution_count": 16,
     "metadata": {},
     "output_type": "execute_result"
    }
   ],
   "source": [
    "print(capitalized_fruits)"
   ]
  },
  {
   "cell_type": "markdown",
   "id": "0fe28dd8",
   "metadata": {},
   "source": [
    "## Exercise 3 \n",
    "- Use a list comprehension to make a variable named `fruits_with_more_than_two_vowels` \n",
    "- Hint: You'll need a way to check if something is a vowel."
   ]
  },
  {
   "cell_type": "code",
   "execution_count": 17,
   "id": "16356a33",
   "metadata": {},
   "outputs": [
    {
     "data": {
      "text/plain": [
       "'mango'"
      ]
     },
     "execution_count": 17,
     "metadata": {},
     "output_type": "execute_result"
    }
   ],
   "source": [
    "str(fruits[0])"
   ]
  },
  {
   "cell_type": "code",
   "execution_count": 23,
   "id": "70b43ef6",
   "metadata": {},
   "outputs": [
    {
     "data": {
      "text/plain": [
       "2"
      ]
     },
     "execution_count": 23,
     "metadata": {},
     "output_type": "execute_result"
    }
   ],
   "source": [
    "'mango'.count('a') + 'mango'.count('e') + 'mango'.count('i') + 'mango'.count('o') + 'mango'.count('u')"
   ]
  },
  {
   "cell_type": "code",
   "execution_count": 30,
   "id": "b60ed7dc",
   "metadata": {},
   "outputs": [
    {
     "data": {
      "text/plain": [
       "2"
      ]
     },
     "execution_count": 30,
     "metadata": {},
     "output_type": "execute_result"
    }
   ],
   "source": [
    "fruits[1].count('a') + fruits[1].count('e') + fruits[1].count('i') + fruits[1].count('o') + fruits[1].count('u')"
   ]
  },
  {
   "cell_type": "code",
   "execution_count": 32,
   "id": "c720069b",
   "metadata": {},
   "outputs": [
    {
     "data": {
      "text/plain": [
       "3"
      ]
     },
     "execution_count": 32,
     "metadata": {},
     "output_type": "execute_result"
    }
   ],
   "source": [
    "fruits[3].count('a') + fruits[3].count('e') + fruits[3].count('i') + fruits[3].count('o') + fruits[3].count('u')"
   ]
  },
  {
   "cell_type": "code",
   "execution_count": 35,
   "id": "dda839a4",
   "metadata": {},
   "outputs": [
    {
     "data": {
      "text/plain": [
       "6"
      ]
     },
     "execution_count": 35,
     "metadata": {},
     "output_type": "execute_result"
    }
   ],
   "source": [
    "len(fruits)"
   ]
  },
  {
   "cell_type": "code",
   "execution_count": 57,
   "id": "0905c141",
   "metadata": {},
   "outputs": [],
   "source": [
    "#Count the vowels in each fruit\n",
    "\n",
    "for fruit in fruits:\n",
    "    i = 0\n",
    "    vowels = []\n",
    "    while i < len(fruits):\n",
    "        vowels.append (fruits[i].count('a') + fruits[i].count('e') + fruits[i].count('i') + \\\n",
    "        fruits[i].count('o')+ fruits[i].count('u'))\n",
    "        i += 1    "
   ]
  },
  {
   "cell_type": "code",
   "execution_count": 58,
   "id": "3e8da385",
   "metadata": {},
   "outputs": [
    {
     "name": "stdout",
     "output_type": "stream",
     "text": [
      "[2, 2, 2, 3, 4, 6]\n"
     ]
    }
   ],
   "source": [
    "print(vowels)"
   ]
  },
  {
   "cell_type": "code",
   "execution_count": 53,
   "id": "ab7f921b",
   "metadata": {},
   "outputs": [],
   "source": [
    "fruits_with_more_than_two_vowels = []\n",
    "i = 0\n",
    "while i < len(fruits):\n",
    "    if (fruits[i].count('a') + fruits[i].count('e') + fruits[i].count('i') + \\\n",
    "    fruits[i].count('o')+ fruits[i].count('u')) >2:\n",
    "        fruits_with_more_than_two_vowels.append(fruits[i])            \n",
    "    i += 1    "
   ]
  },
  {
   "cell_type": "code",
   "execution_count": 55,
   "id": "6279f170",
   "metadata": {},
   "outputs": [
    {
     "name": "stdout",
     "output_type": "stream",
     "text": [
      "['guava', 'pineapple', 'mandarin orange']\n"
     ]
    }
   ],
   "source": [
    "print(fruits_with_more_than_two_vowels)"
   ]
  },
  {
   "cell_type": "markdown",
   "id": "24332c7b",
   "metadata": {},
   "source": [
    "## Exercise 4 \n",
    "- make a variable named fruits_with_only_two_vowels\n",
    "- The result should be ['mango', 'kiwi', 'strawberry']"
   ]
  },
  {
   "cell_type": "code",
   "execution_count": 60,
   "id": "a1e2ef21",
   "metadata": {},
   "outputs": [],
   "source": [
    "fruits_with_only_two_vowels = []\n",
    "i = 0\n",
    "while i < len(fruits):\n",
    "    if (fruits[i].count('a') + fruits[i].count('e') + fruits[i].count('i') + \\\n",
    "    fruits[i].count('o')+ fruits[i].count('u')) == 2:\n",
    "        fruits_with_only_two_vowels.append(fruits[i])            \n",
    "    i += 1  "
   ]
  },
  {
   "cell_type": "code",
   "execution_count": 61,
   "id": "29e7ee9a",
   "metadata": {},
   "outputs": [
    {
     "name": "stdout",
     "output_type": "stream",
     "text": [
      "['mango', 'kiwi', 'strawberry']\n"
     ]
    }
   ],
   "source": [
    "print(fruits_with_only_two_vowels)"
   ]
  },
  {
   "cell_type": "markdown",
   "id": "594098ca",
   "metadata": {},
   "source": [
    "# Exercise 5 \n",
    "- Make a list that contains each fruit with more than 5 characters"
   ]
  },
  {
   "cell_type": "code",
   "execution_count": 64,
   "id": "91833e08",
   "metadata": {},
   "outputs": [],
   "source": [
    "longfruits = []\n",
    "i = 0\n",
    "while i < len(fruits):\n",
    "    if len(fruits[i]) > 5:\n",
    "        longfruits.append(fruits[i])            \n",
    "    i += 1  "
   ]
  },
  {
   "cell_type": "code",
   "execution_count": 65,
   "id": "cd48db16",
   "metadata": {},
   "outputs": [
    {
     "name": "stdout",
     "output_type": "stream",
     "text": [
      "['strawberry', 'pineapple', 'mandarin orange']\n"
     ]
    }
   ],
   "source": [
    "print(longfruits)"
   ]
  },
  {
   "cell_type": "markdown",
   "id": "c6e3c0c4",
   "metadata": {},
   "source": [
    "# Exercise 6 \n",
    "- Make a list that contains each fruit with exactly 5 characters"
   ]
  },
  {
   "cell_type": "code",
   "execution_count": 66,
   "id": "75de14bd",
   "metadata": {},
   "outputs": [],
   "source": [
    "five_fruit = []\n",
    "i = 0\n",
    "while i < len(fruits):\n",
    "    if len(fruits[i]) == 5:\n",
    "        five_fruit.append(fruits[i])            \n",
    "    i += 1  "
   ]
  },
  {
   "cell_type": "code",
   "execution_count": 67,
   "id": "bc70ca73",
   "metadata": {},
   "outputs": [
    {
     "name": "stdout",
     "output_type": "stream",
     "text": [
      "['mango', 'guava']\n"
     ]
    }
   ],
   "source": [
    "print(five_fruit)"
   ]
  },
  {
   "cell_type": "markdown",
   "id": "f1c0eb77",
   "metadata": {},
   "source": [
    "# Exercise 7 \n",
    "- Make a list that contains fruits that have less than 5 characters"
   ]
  },
  {
   "cell_type": "code",
   "execution_count": 68,
   "id": "65c04ca7",
   "metadata": {},
   "outputs": [],
   "source": [
    "less_five = []\n",
    "i = 0\n",
    "while i < len(fruits):\n",
    "    if len(fruits[i]) < 5:\n",
    "        less_five.append(fruits[i])            \n",
    "    i += 1  "
   ]
  },
  {
   "cell_type": "code",
   "execution_count": 69,
   "id": "0030deda",
   "metadata": {},
   "outputs": [
    {
     "name": "stdout",
     "output_type": "stream",
     "text": [
      "['kiwi']\n"
     ]
    }
   ],
   "source": [
    "print(less_five)"
   ]
  },
  {
   "cell_type": "markdown",
   "id": "6c14c902",
   "metadata": {},
   "source": [
    "# Exercise 8 \n",
    "- Make a list containing the number of characters in each fruit. Output would be [5, 4, 10, etc... ]"
   ]
  },
  {
   "cell_type": "code",
   "execution_count": 71,
   "id": "648dc9ac",
   "metadata": {},
   "outputs": [],
   "source": [
    "for fruit in fruits:\n",
    "    i = 0\n",
    "    length = []\n",
    "    while i < len(fruits):\n",
    "        length.append (len(fruits[i]))\n",
    "        i += 1    "
   ]
  },
  {
   "cell_type": "code",
   "execution_count": 72,
   "id": "902d63d7",
   "metadata": {},
   "outputs": [
    {
     "name": "stdout",
     "output_type": "stream",
     "text": [
      "[5, 4, 10, 5, 9, 15]\n"
     ]
    }
   ],
   "source": [
    "print(length)"
   ]
  },
  {
   "cell_type": "markdown",
   "id": "74a6378d",
   "metadata": {},
   "source": [
    "# Exercise 9 \n",
    "- Make a variable named `fruits_with_letter_a` that contains a list of only the fruits that contain the letter \"a\""
   ]
  },
  {
   "cell_type": "code",
   "execution_count": 74,
   "id": "f46934be",
   "metadata": {},
   "outputs": [],
   "source": [
    "fruits_with_letter_a = []\n",
    "i = 0\n",
    "while i < len(fruits):\n",
    "    if (fruits[i].count('a')) > 0:\n",
    "        fruits_with_letter_a.append(fruits[i])            \n",
    "    i += 1    \n"
   ]
  },
  {
   "cell_type": "code",
   "execution_count": 75,
   "id": "382f1ed4",
   "metadata": {},
   "outputs": [
    {
     "name": "stdout",
     "output_type": "stream",
     "text": [
      "['mango', 'strawberry', 'guava', 'pineapple', 'mandarin orange']\n"
     ]
    }
   ],
   "source": [
    "print(fruits_with_letter_a)"
   ]
  },
  {
   "cell_type": "markdown",
   "id": "21c14f39",
   "metadata": {},
   "source": [
    "# Exercise 10\n",
    "- Make a variable named even_numbers that holds only the even numbers"
   ]
  },
  {
   "cell_type": "code",
   "execution_count": 77,
   "id": "e3da652e",
   "metadata": {},
   "outputs": [],
   "source": [
    "even_numbers = []\n",
    "i = 0\n",
    "while i < len(numbers):\n",
    "    if (numbers[i] % 2) == 0:\n",
    "        even_numbers.append(numbers[i])            \n",
    "    i += 1    "
   ]
  },
  {
   "cell_type": "code",
   "execution_count": 78,
   "id": "8ee98e04",
   "metadata": {},
   "outputs": [
    {
     "name": "stdout",
     "output_type": "stream",
     "text": [
      "[2, 4, 6, 8, 10, 256, -8, -4, -2]\n"
     ]
    }
   ],
   "source": [
    "print(even_numbers)"
   ]
  },
  {
   "cell_type": "markdown",
   "id": "e3defb93",
   "metadata": {},
   "source": [
    "# Exercise 11 \n",
    "- Make a variable named `odd_numbers` that holds only the odd numbers"
   ]
  },
  {
   "cell_type": "code",
   "execution_count": 79,
   "id": "55866af0",
   "metadata": {},
   "outputs": [],
   "source": [
    "odd_numbers = []\n",
    "i = 0\n",
    "while i < len(numbers):\n",
    "    if (numbers[i] % 2) != 0:\n",
    "        odd_numbers.append(numbers[i])            \n",
    "    i += 1    "
   ]
  },
  {
   "cell_type": "code",
   "execution_count": 80,
   "id": "6ac44632",
   "metadata": {},
   "outputs": [
    {
     "name": "stdout",
     "output_type": "stream",
     "text": [
      "[3, 5, 7, 9, 11, 13, 17, 19, 23, 5, -9]\n"
     ]
    }
   ],
   "source": [
    "print(odd_numbers)"
   ]
  },
  {
   "cell_type": "markdown",
   "id": "417f7f64",
   "metadata": {},
   "source": [
    "# Exercise 12 \n",
    "- Make a variable named positive_numbers that holds only the positive numbers"
   ]
  },
  {
   "cell_type": "code",
   "execution_count": 81,
   "id": "f83ac88c",
   "metadata": {},
   "outputs": [],
   "source": [
    "positive_numbers  = []\n",
    "i = 0\n",
    "while i < len(numbers):\n",
    "    if numbers[i] > 0:\n",
    "        positive_numbers.append(numbers[i])            \n",
    "    i += 1    "
   ]
  },
  {
   "cell_type": "code",
   "execution_count": 82,
   "id": "e7adf7c2",
   "metadata": {},
   "outputs": [
    {
     "name": "stdout",
     "output_type": "stream",
     "text": [
      "[2, 3, 4, 5, 6, 7, 8, 9, 10, 11, 13, 17, 19, 23, 256, 5]\n"
     ]
    }
   ],
   "source": [
    "print(positive_numbers)"
   ]
  },
  {
   "cell_type": "markdown",
   "id": "373e57a1",
   "metadata": {},
   "source": [
    "## Exercise 13 \n",
    "- Make a variable named `negative_numbers` that holds only the negative numbers"
   ]
  },
  {
   "cell_type": "code",
   "execution_count": 83,
   "id": "1e7bec3e",
   "metadata": {},
   "outputs": [],
   "source": [
    "negative_numbers  = []\n",
    "i = 0\n",
    "while i < len(numbers):\n",
    "    if numbers[i] < 0:\n",
    "        negative_numbers.append(numbers[i])            \n",
    "    i += 1    "
   ]
  },
  {
   "cell_type": "code",
   "execution_count": 84,
   "id": "8b02fbc8",
   "metadata": {},
   "outputs": [
    {
     "name": "stdout",
     "output_type": "stream",
     "text": [
      "[-8, -4, -2, -9]\n"
     ]
    }
   ],
   "source": [
    "print(negative_numbers)"
   ]
  },
  {
   "cell_type": "markdown",
   "id": "f7587fd9",
   "metadata": {},
   "source": [
    "## Exercise 14 \n",
    "- Use a `list comprehension` w/ a conditional in order to produce a list of numbers with 2 or more numerals\n",
    "\n",
    "- Unsure how to call index in length comprenension can do this with an i count, but need syntax for list comprehension"
   ]
  },
  {
   "cell_type": "code",
   "execution_count": 112,
   "id": "c06f4ca5",
   "metadata": {},
   "outputs": [],
   "source": [
    "more_two = []\n",
    "for number in numbers:\n",
    "    i = 0\n",
    "    if len (str(numbers[i])) > 2:\n",
    "        more_two.append(number+1)\n",
    "        i += 1"
   ]
  },
  {
   "cell_type": "code",
   "execution_count": 103,
   "id": "44c6010c",
   "metadata": {},
   "outputs": [
    {
     "name": "stdout",
     "output_type": "stream",
     "text": [
      "[3, 4, 5, 6, 7, 8, 9, 10, 11, 12, 14, 18, 20, 24, 257, -7, -3, -1, 6, -8]\n"
     ]
    }
   ],
   "source": [
    "print(more_two)"
   ]
  },
  {
   "cell_type": "code",
   "execution_count": 122,
   "id": "328de551",
   "metadata": {},
   "outputs": [
    {
     "ename": "SyntaxError",
     "evalue": "invalid syntax (<ipython-input-122-827c89540aa6>, line 3)",
     "output_type": "error",
     "traceback": [
      "\u001b[0;36m  File \u001b[0;32m\"<ipython-input-122-827c89540aa6>\"\u001b[0;36m, line \u001b[0;32m3\u001b[0m\n\u001b[0;31m    if len(str(number) > 2:\u001b[0m\n\u001b[0m                          ^\u001b[0m\n\u001b[0;31mSyntaxError\u001b[0m\u001b[0;31m:\u001b[0m invalid syntax\n"
     ]
    }
   ],
   "source": [
    "more_two = []\n",
    "for number in numbers:\n",
    "    if len(str(number) > 2:\n",
    "        more_two.append(number)"
   ]
  },
  {
   "cell_type": "markdown",
   "id": "b783d3ee",
   "metadata": {},
   "source": [
    "## Exercise 14 WRONG - fix syntax"
   ]
  },
  {
   "cell_type": "code",
   "execution_count": 105,
   "id": "49d7bc5d",
   "metadata": {},
   "outputs": [],
   "source": [
    "more_two = []\n",
    "i = 0\n",
    "while i < len(numbers):\n",
    "    if len (str(numbers[i])) > 2:\n",
    "        more_two.append(numbers[i])\n",
    "    i += 1    "
   ]
  },
  {
   "cell_type": "code",
   "execution_count": 106,
   "id": "3aa8757c",
   "metadata": {},
   "outputs": [
    {
     "data": {
      "text/plain": [
       "[256]"
      ]
     },
     "execution_count": 106,
     "metadata": {},
     "output_type": "execute_result"
    }
   ],
   "source": [
    "more_two"
   ]
  },
  {
   "cell_type": "markdown",
   "id": "08033d0d",
   "metadata": {},
   "source": [
    "## Exercise 15 \n",
    "- Make a variable named `numbers_squared` that contains the numbers list with each element squared. Output is [4, 9, 16, etc...]"
   ]
  },
  {
   "cell_type": "code",
   "execution_count": 113,
   "id": "ec5f929f",
   "metadata": {},
   "outputs": [],
   "source": [
    "numbers_squared = [number ** 2 for number in numbers]"
   ]
  },
  {
   "cell_type": "code",
   "execution_count": 114,
   "id": "df80bae1",
   "metadata": {},
   "outputs": [
    {
     "name": "stdout",
     "output_type": "stream",
     "text": [
      "[4, 9, 16, 25, 36, 49, 64, 81, 100, 121, 169, 289, 361, 529, 65536, 64, 16, 4, 25, 81]\n"
     ]
    }
   ],
   "source": [
    "print(numbers_squared)"
   ]
  },
  {
   "cell_type": "markdown",
   "id": "08cb49dd",
   "metadata": {},
   "source": [
    "## Exercise 16 \n",
    "- Make a variable named `odd_negative_numbers` that contains only the numbers that are both odd and negative."
   ]
  },
  {
   "cell_type": "code",
   "execution_count": 123,
   "id": "3694e39a",
   "metadata": {},
   "outputs": [],
   "source": [
    "odd_negative_numbers  = []\n",
    "i = 0\n",
    "while i < len(numbers):\n",
    "    if (numbers[i] < 0) and ((numbers[i] % 2) != 0):\n",
    "        odd_negative_numbers.append(numbers[i])            \n",
    "    i += 1    "
   ]
  },
  {
   "cell_type": "code",
   "execution_count": 124,
   "id": "b3e11831",
   "metadata": {},
   "outputs": [
    {
     "name": "stdout",
     "output_type": "stream",
     "text": [
      "[-9]\n"
     ]
    }
   ],
   "source": [
    "print(odd_negative_numbers)"
   ]
  },
  {
   "cell_type": "markdown",
   "id": "5696b68b",
   "metadata": {},
   "source": [
    "## Exercise 17 \n",
    "- Make a variable named numbers_plus_5. In it, return a list containing each number plus five. "
   ]
  },
  {
   "cell_type": "code",
   "execution_count": 125,
   "id": "ee2aa741",
   "metadata": {},
   "outputs": [],
   "source": [
    "numbers_plus_5 = [number + 5 for number in numbers]\n"
   ]
  },
  {
   "cell_type": "code",
   "execution_count": 126,
   "id": "af309575",
   "metadata": {},
   "outputs": [
    {
     "name": "stdout",
     "output_type": "stream",
     "text": [
      "[7, 8, 9, 10, 11, 12, 13, 14, 15, 16, 18, 22, 24, 28, 261, -3, 1, 3, 10, -4]\n"
     ]
    }
   ],
   "source": [
    "print(numbers_plus_5)"
   ]
  },
  {
   "cell_type": "markdown",
   "id": "49db0a5f",
   "metadata": {},
   "source": [
    "# BONUS \n",
    "- Make a variable named \"primes\" that is a list containing the prime numbers in the numbers list. *Hint* you may want to make or find a helper function that determines if a given number is prime or not."
   ]
  },
  {
   "cell_type": "code",
   "execution_count": 127,
   "id": "8ae196a1",
   "metadata": {},
   "outputs": [
    {
     "name": "stdout",
     "output_type": "stream",
     "text": [
      "Requirement already satisfied: sympy in /opt/homebrew/anaconda3/lib/python3.8/site-packages (1.8)\n",
      "Requirement already satisfied: mpmath>=0.19 in /opt/homebrew/anaconda3/lib/python3.8/site-packages (from sympy) (1.2.1)\n",
      "Note: you may need to restart the kernel to use updated packages.\n"
     ]
    }
   ],
   "source": [
    "pip install sympy"
   ]
  },
  {
   "cell_type": "code",
   "execution_count": 129,
   "id": "e4ec2ad7",
   "metadata": {},
   "outputs": [
    {
     "ename": "NameError",
     "evalue": "name 'sympy' is not defined",
     "output_type": "error",
     "traceback": [
      "\u001b[0;31m---------------------------------------------------------------------------\u001b[0m",
      "\u001b[0;31mNameError\u001b[0m                                 Traceback (most recent call last)",
      "\u001b[0;32m<ipython-input-129-2e125d0943e1>\u001b[0m in \u001b[0;36m<module>\u001b[0;34m\u001b[0m\n\u001b[0;32m----> 1\u001b[0;31m \u001b[0msympy\u001b[0m\u001b[0;34m.\u001b[0m\u001b[0misprime\u001b[0m\u001b[0;34m(\u001b[0m\u001b[0;36m2\u001b[0m\u001b[0;34m)\u001b[0m\u001b[0;34m\u001b[0m\u001b[0;34m\u001b[0m\u001b[0m\n\u001b[0m",
      "\u001b[0;31mNameError\u001b[0m: name 'sympy' is not defined"
     ]
    }
   ],
   "source": [
    "sympy.isprime(2)"
   ]
  },
  {
   "cell_type": "code",
   "execution_count": null,
   "id": "cd273433",
   "metadata": {},
   "outputs": [],
   "source": []
  }
 ],
 "metadata": {
  "kernelspec": {
   "display_name": "Python 3",
   "language": "python",
   "name": "python3"
  },
  "language_info": {
   "codemirror_mode": {
    "name": "ipython",
    "version": 3
   },
   "file_extension": ".py",
   "mimetype": "text/x-python",
   "name": "python",
   "nbconvert_exporter": "python",
   "pygments_lexer": "ipython3",
   "version": "3.8.8"
  }
 },
 "nbformat": 4,
 "nbformat_minor": 5
}
